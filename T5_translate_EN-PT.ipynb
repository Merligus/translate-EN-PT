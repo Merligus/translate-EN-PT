{
  "nbformat": 4,
  "nbformat_minor": 0,
  "metadata": {
    "colab": {
      "name": "Tradutor.ipynb",
      "provenance": [],
      "collapsed_sections": [],
      "toc_visible": true
    },
    "kernelspec": {
      "name": "python3",
      "display_name": "Python 3"
    },
    "widgets": {
      "application/vnd.jupyter.widget-state+json": {
        "c8731b2851ef449dbb5e3cda9d859ae2": {
          "model_module": "@jupyter-widgets/controls",
          "model_name": "HBoxModel",
          "state": {
            "_view_name": "HBoxView",
            "_dom_classes": [],
            "_model_name": "HBoxModel",
            "_view_module": "@jupyter-widgets/controls",
            "_model_module_version": "1.5.0",
            "_view_count": null,
            "_view_module_version": "1.5.0",
            "box_style": "",
            "layout": "IPY_MODEL_c12d7de159a54d939dea6d8c90dacf76",
            "_model_module": "@jupyter-widgets/controls",
            "children": [
              "IPY_MODEL_1d70372c8e49403682fae58be562d4b5",
              "IPY_MODEL_da8c22f1bbe642949d7e9f2ab8946e6e"
            ]
          },
          "model_module_version": "1.5.0"
        },
        "c12d7de159a54d939dea6d8c90dacf76": {
          "model_module": "@jupyter-widgets/base",
          "model_name": "LayoutModel",
          "state": {
            "_view_name": "LayoutView",
            "grid_template_rows": null,
            "right": null,
            "justify_content": null,
            "_view_module": "@jupyter-widgets/base",
            "overflow": null,
            "_model_module_version": "1.2.0",
            "_view_count": null,
            "flex_flow": "row wrap",
            "width": "100%",
            "min_width": null,
            "border": null,
            "align_items": null,
            "bottom": null,
            "_model_module": "@jupyter-widgets/base",
            "top": null,
            "grid_column": null,
            "overflow_y": null,
            "overflow_x": null,
            "grid_auto_flow": null,
            "grid_area": null,
            "grid_template_columns": null,
            "flex": null,
            "_model_name": "LayoutModel",
            "justify_items": null,
            "grid_row": null,
            "max_height": null,
            "align_content": null,
            "visibility": null,
            "align_self": null,
            "height": null,
            "min_height": null,
            "padding": null,
            "grid_auto_rows": null,
            "grid_gap": null,
            "max_width": null,
            "order": null,
            "_view_module_version": "1.2.0",
            "grid_template_areas": null,
            "object_position": null,
            "object_fit": null,
            "grid_auto_columns": null,
            "margin": null,
            "display": "inline-flex",
            "left": null
          },
          "model_module_version": "1.2.0"
        },
        "1d70372c8e49403682fae58be562d4b5": {
          "model_module": "@jupyter-widgets/controls",
          "model_name": "FloatProgressModel",
          "state": {
            "_view_name": "ProgressView",
            "style": "IPY_MODEL_9695a83b34e14d1ab53fac7d172fbf61",
            "_dom_classes": [],
            "description": "Epoch 0: 100%",
            "_model_name": "FloatProgressModel",
            "bar_style": "success",
            "max": 2,
            "_view_module": "@jupyter-widgets/controls",
            "_model_module_version": "1.5.0",
            "value": 2,
            "_view_count": null,
            "_view_module_version": "1.5.0",
            "orientation": "horizontal",
            "min": 0,
            "description_tooltip": null,
            "_model_module": "@jupyter-widgets/controls",
            "layout": "IPY_MODEL_2f8b229143e04c74ac163960d4131749"
          },
          "model_module_version": "1.5.0"
        },
        "da8c22f1bbe642949d7e9f2ab8946e6e": {
          "model_module": "@jupyter-widgets/controls",
          "model_name": "HTMLModel",
          "state": {
            "_view_name": "HTMLView",
            "style": "IPY_MODEL_5be9ccacce6445368178504cdd5bf729",
            "_dom_classes": [],
            "description": "",
            "_model_name": "HTMLModel",
            "placeholder": "​",
            "_view_module": "@jupyter-widgets/controls",
            "_model_module_version": "1.5.0",
            "value": " 2/2 [00:04&lt;00:00,  2.40s/it, loss=4.951, v_num=3, gpu_usage=0%, avg_val_bleu=9.99]",
            "_view_count": null,
            "_view_module_version": "1.5.0",
            "description_tooltip": null,
            "_model_module": "@jupyter-widgets/controls",
            "layout": "IPY_MODEL_ca743f04df744243abd0c6308f27259e"
          },
          "model_module_version": "1.5.0"
        },
        "9695a83b34e14d1ab53fac7d172fbf61": {
          "model_module": "@jupyter-widgets/controls",
          "model_name": "ProgressStyleModel",
          "state": {
            "_view_name": "StyleView",
            "_model_name": "ProgressStyleModel",
            "description_width": "initial",
            "_view_module": "@jupyter-widgets/base",
            "_model_module_version": "1.5.0",
            "_view_count": null,
            "_view_module_version": "1.2.0",
            "bar_color": null,
            "_model_module": "@jupyter-widgets/controls"
          },
          "model_module_version": "1.5.0"
        },
        "2f8b229143e04c74ac163960d4131749": {
          "model_module": "@jupyter-widgets/base",
          "model_name": "LayoutModel",
          "state": {
            "_view_name": "LayoutView",
            "grid_template_rows": null,
            "right": null,
            "justify_content": null,
            "_view_module": "@jupyter-widgets/base",
            "overflow": null,
            "_model_module_version": "1.2.0",
            "_view_count": null,
            "flex_flow": null,
            "width": null,
            "min_width": null,
            "border": null,
            "align_items": null,
            "bottom": null,
            "_model_module": "@jupyter-widgets/base",
            "top": null,
            "grid_column": null,
            "overflow_y": null,
            "overflow_x": null,
            "grid_auto_flow": null,
            "grid_area": null,
            "grid_template_columns": null,
            "flex": "2",
            "_model_name": "LayoutModel",
            "justify_items": null,
            "grid_row": null,
            "max_height": null,
            "align_content": null,
            "visibility": null,
            "align_self": null,
            "height": null,
            "min_height": null,
            "padding": null,
            "grid_auto_rows": null,
            "grid_gap": null,
            "max_width": null,
            "order": null,
            "_view_module_version": "1.2.0",
            "grid_template_areas": null,
            "object_position": null,
            "object_fit": null,
            "grid_auto_columns": null,
            "margin": null,
            "display": null,
            "left": null
          },
          "model_module_version": "1.2.0"
        },
        "5be9ccacce6445368178504cdd5bf729": {
          "model_module": "@jupyter-widgets/controls",
          "model_name": "DescriptionStyleModel",
          "state": {
            "_view_name": "StyleView",
            "_model_name": "DescriptionStyleModel",
            "description_width": "",
            "_view_module": "@jupyter-widgets/base",
            "_model_module_version": "1.5.0",
            "_view_count": null,
            "_view_module_version": "1.2.0",
            "_model_module": "@jupyter-widgets/controls"
          },
          "model_module_version": "1.5.0"
        },
        "ca743f04df744243abd0c6308f27259e": {
          "model_module": "@jupyter-widgets/base",
          "model_name": "LayoutModel",
          "state": {
            "_view_name": "LayoutView",
            "grid_template_rows": null,
            "right": null,
            "justify_content": null,
            "_view_module": "@jupyter-widgets/base",
            "overflow": null,
            "_model_module_version": "1.2.0",
            "_view_count": null,
            "flex_flow": null,
            "width": null,
            "min_width": null,
            "border": null,
            "align_items": null,
            "bottom": null,
            "_model_module": "@jupyter-widgets/base",
            "top": null,
            "grid_column": null,
            "overflow_y": null,
            "overflow_x": null,
            "grid_auto_flow": null,
            "grid_area": null,
            "grid_template_columns": null,
            "flex": null,
            "_model_name": "LayoutModel",
            "justify_items": null,
            "grid_row": null,
            "max_height": null,
            "align_content": null,
            "visibility": null,
            "align_self": null,
            "height": null,
            "min_height": null,
            "padding": null,
            "grid_auto_rows": null,
            "grid_gap": null,
            "max_width": null,
            "order": null,
            "_view_module_version": "1.2.0",
            "grid_template_areas": null,
            "object_position": null,
            "object_fit": null,
            "grid_auto_columns": null,
            "margin": null,
            "display": null,
            "left": null
          },
          "model_module_version": "1.2.0"
        },
        "b65148050dd648b9b522b4b337474c38": {
          "model_module": "@jupyter-widgets/controls",
          "model_name": "HBoxModel",
          "state": {
            "_view_name": "HBoxView",
            "_dom_classes": [],
            "_model_name": "HBoxModel",
            "_view_module": "@jupyter-widgets/controls",
            "_model_module_version": "1.5.0",
            "_view_count": null,
            "_view_module_version": "1.5.0",
            "box_style": "",
            "layout": "IPY_MODEL_70d4131985024b67aa4c967a5f7a3304",
            "_model_module": "@jupyter-widgets/controls",
            "children": [
              "IPY_MODEL_6f176e8b93a04adfaee19f0b2f7707b5",
              "IPY_MODEL_c0974e0f276a4a4a937b477a1a955462"
            ]
          },
          "model_module_version": "1.5.0"
        },
        "70d4131985024b67aa4c967a5f7a3304": {
          "model_module": "@jupyter-widgets/base",
          "model_name": "LayoutModel",
          "state": {
            "_view_name": "LayoutView",
            "grid_template_rows": null,
            "right": null,
            "justify_content": null,
            "_view_module": "@jupyter-widgets/base",
            "overflow": null,
            "_model_module_version": "1.2.0",
            "_view_count": null,
            "flex_flow": "row wrap",
            "width": "100%",
            "min_width": null,
            "border": null,
            "align_items": null,
            "bottom": null,
            "_model_module": "@jupyter-widgets/base",
            "top": null,
            "grid_column": null,
            "overflow_y": null,
            "overflow_x": null,
            "grid_auto_flow": null,
            "grid_area": null,
            "grid_template_columns": null,
            "flex": null,
            "_model_name": "LayoutModel",
            "justify_items": null,
            "grid_row": null,
            "max_height": null,
            "align_content": null,
            "visibility": null,
            "align_self": null,
            "height": null,
            "min_height": null,
            "padding": null,
            "grid_auto_rows": null,
            "grid_gap": null,
            "max_width": null,
            "order": null,
            "_view_module_version": "1.2.0",
            "grid_template_areas": null,
            "object_position": null,
            "object_fit": null,
            "grid_auto_columns": null,
            "margin": null,
            "display": "inline-flex",
            "left": null
          },
          "model_module_version": "1.2.0"
        },
        "6f176e8b93a04adfaee19f0b2f7707b5": {
          "model_module": "@jupyter-widgets/controls",
          "model_name": "FloatProgressModel",
          "state": {
            "_view_name": "ProgressView",
            "style": "IPY_MODEL_54f17d7b917c4c17889d052fc9d7b113",
            "_dom_classes": [],
            "description": "Validating: 100%",
            "_model_name": "FloatProgressModel",
            "bar_style": "info",
            "max": 1,
            "_view_module": "@jupyter-widgets/controls",
            "_model_module_version": "1.5.0",
            "value": 1,
            "_view_count": null,
            "_view_module_version": "1.5.0",
            "orientation": "horizontal",
            "min": 0,
            "description_tooltip": null,
            "_model_module": "@jupyter-widgets/controls",
            "layout": "IPY_MODEL_4913d3e93201421493ba32aa18d71136"
          },
          "model_module_version": "1.5.0"
        },
        "c0974e0f276a4a4a937b477a1a955462": {
          "model_module": "@jupyter-widgets/controls",
          "model_name": "HTMLModel",
          "state": {
            "_view_name": "HTMLView",
            "style": "IPY_MODEL_62456fedf722470a975312085cb28465",
            "_dom_classes": [],
            "description": "",
            "_model_name": "HTMLModel",
            "placeholder": "​",
            "_view_module": "@jupyter-widgets/controls",
            "_model_module_version": "1.5.0",
            "value": " 1/1 [00:03&lt;00:00,  3.38s/it]",
            "_view_count": null,
            "_view_module_version": "1.5.0",
            "description_tooltip": null,
            "_model_module": "@jupyter-widgets/controls",
            "layout": "IPY_MODEL_3266c2aafc724e14b5ff11ef6131b666"
          },
          "model_module_version": "1.5.0"
        },
        "54f17d7b917c4c17889d052fc9d7b113": {
          "model_module": "@jupyter-widgets/controls",
          "model_name": "ProgressStyleModel",
          "state": {
            "_view_name": "StyleView",
            "_model_name": "ProgressStyleModel",
            "description_width": "initial",
            "_view_module": "@jupyter-widgets/base",
            "_model_module_version": "1.5.0",
            "_view_count": null,
            "_view_module_version": "1.2.0",
            "bar_color": null,
            "_model_module": "@jupyter-widgets/controls"
          },
          "model_module_version": "1.5.0"
        },
        "4913d3e93201421493ba32aa18d71136": {
          "model_module": "@jupyter-widgets/base",
          "model_name": "LayoutModel",
          "state": {
            "_view_name": "LayoutView",
            "grid_template_rows": null,
            "right": null,
            "justify_content": null,
            "_view_module": "@jupyter-widgets/base",
            "overflow": null,
            "_model_module_version": "1.2.0",
            "_view_count": null,
            "flex_flow": null,
            "width": null,
            "min_width": null,
            "border": null,
            "align_items": null,
            "bottom": null,
            "_model_module": "@jupyter-widgets/base",
            "top": null,
            "grid_column": null,
            "overflow_y": null,
            "overflow_x": null,
            "grid_auto_flow": null,
            "grid_area": null,
            "grid_template_columns": null,
            "flex": "2",
            "_model_name": "LayoutModel",
            "justify_items": null,
            "grid_row": null,
            "max_height": null,
            "align_content": null,
            "visibility": null,
            "align_self": null,
            "height": null,
            "min_height": null,
            "padding": null,
            "grid_auto_rows": null,
            "grid_gap": null,
            "max_width": null,
            "order": null,
            "_view_module_version": "1.2.0",
            "grid_template_areas": null,
            "object_position": null,
            "object_fit": null,
            "grid_auto_columns": null,
            "margin": null,
            "display": null,
            "left": null
          },
          "model_module_version": "1.2.0"
        },
        "62456fedf722470a975312085cb28465": {
          "model_module": "@jupyter-widgets/controls",
          "model_name": "DescriptionStyleModel",
          "state": {
            "_view_name": "StyleView",
            "_model_name": "DescriptionStyleModel",
            "description_width": "",
            "_view_module": "@jupyter-widgets/base",
            "_model_module_version": "1.5.0",
            "_view_count": null,
            "_view_module_version": "1.2.0",
            "_model_module": "@jupyter-widgets/controls"
          },
          "model_module_version": "1.5.0"
        },
        "3266c2aafc724e14b5ff11ef6131b666": {
          "model_module": "@jupyter-widgets/base",
          "model_name": "LayoutModel",
          "state": {
            "_view_name": "LayoutView",
            "grid_template_rows": null,
            "right": null,
            "justify_content": null,
            "_view_module": "@jupyter-widgets/base",
            "overflow": null,
            "_model_module_version": "1.2.0",
            "_view_count": null,
            "flex_flow": null,
            "width": null,
            "min_width": null,
            "border": null,
            "align_items": null,
            "bottom": null,
            "_model_module": "@jupyter-widgets/base",
            "top": null,
            "grid_column": null,
            "overflow_y": null,
            "overflow_x": null,
            "grid_auto_flow": null,
            "grid_area": null,
            "grid_template_columns": null,
            "flex": null,
            "_model_name": "LayoutModel",
            "justify_items": null,
            "grid_row": null,
            "max_height": null,
            "align_content": null,
            "visibility": null,
            "align_self": null,
            "height": null,
            "min_height": null,
            "padding": null,
            "grid_auto_rows": null,
            "grid_gap": null,
            "max_width": null,
            "order": null,
            "_view_module_version": "1.2.0",
            "grid_template_areas": null,
            "object_position": null,
            "object_fit": null,
            "grid_auto_columns": null,
            "margin": null,
            "display": null,
            "left": null
          },
          "model_module_version": "1.2.0"
        },
        "1519ad186a03410db30776bb77ea379e": {
          "model_module": "@jupyter-widgets/controls",
          "model_name": "HBoxModel",
          "state": {
            "_view_name": "HBoxView",
            "_dom_classes": [],
            "_model_name": "HBoxModel",
            "_view_module": "@jupyter-widgets/controls",
            "_model_module_version": "1.5.0",
            "_view_count": null,
            "_view_module_version": "1.5.0",
            "box_style": "",
            "layout": "IPY_MODEL_88a133e98128445c991e06f2f8438419",
            "_model_module": "@jupyter-widgets/controls",
            "children": [
              "IPY_MODEL_36f3944c20bb480caabd46e0b1915c0b",
              "IPY_MODEL_f0f4f3d17acf4bfa8f62cf592e6da8cd"
            ]
          },
          "model_module_version": "1.5.0"
        },
        "88a133e98128445c991e06f2f8438419": {
          "model_module": "@jupyter-widgets/base",
          "model_name": "LayoutModel",
          "state": {
            "_view_name": "LayoutView",
            "grid_template_rows": null,
            "right": null,
            "justify_content": null,
            "_view_module": "@jupyter-widgets/base",
            "overflow": null,
            "_model_module_version": "1.2.0",
            "_view_count": null,
            "flex_flow": "row wrap",
            "width": "100%",
            "min_width": null,
            "border": null,
            "align_items": null,
            "bottom": null,
            "_model_module": "@jupyter-widgets/base",
            "top": null,
            "grid_column": null,
            "overflow_y": null,
            "overflow_x": null,
            "grid_auto_flow": null,
            "grid_area": null,
            "grid_template_columns": null,
            "flex": null,
            "_model_name": "LayoutModel",
            "justify_items": null,
            "grid_row": null,
            "max_height": null,
            "align_content": null,
            "visibility": null,
            "align_self": null,
            "height": null,
            "min_height": null,
            "padding": null,
            "grid_auto_rows": null,
            "grid_gap": null,
            "max_width": null,
            "order": null,
            "_view_module_version": "1.2.0",
            "grid_template_areas": null,
            "object_position": null,
            "object_fit": null,
            "grid_auto_columns": null,
            "margin": null,
            "display": "inline-flex",
            "left": null
          },
          "model_module_version": "1.2.0"
        },
        "36f3944c20bb480caabd46e0b1915c0b": {
          "model_module": "@jupyter-widgets/controls",
          "model_name": "FloatProgressModel",
          "state": {
            "_view_name": "ProgressView",
            "style": "IPY_MODEL_4428dace9e0c4629a8fbc4ce2e6f581c",
            "_dom_classes": [],
            "description": "Testing: 100%",
            "_model_name": "FloatProgressModel",
            "bar_style": "success",
            "max": 1,
            "_view_module": "@jupyter-widgets/controls",
            "_model_module_version": "1.5.0",
            "value": 1,
            "_view_count": null,
            "_view_module_version": "1.5.0",
            "orientation": "horizontal",
            "min": 0,
            "description_tooltip": null,
            "_model_module": "@jupyter-widgets/controls",
            "layout": "IPY_MODEL_35874d324f0c4c8ea0725f92bccfb9b6"
          },
          "model_module_version": "1.5.0"
        },
        "f0f4f3d17acf4bfa8f62cf592e6da8cd": {
          "model_module": "@jupyter-widgets/controls",
          "model_name": "HTMLModel",
          "state": {
            "_view_name": "HTMLView",
            "style": "IPY_MODEL_7028de95688e4eccad8b0b6021623fb4",
            "_dom_classes": [],
            "description": "",
            "_model_name": "HTMLModel",
            "placeholder": "​",
            "_view_module": "@jupyter-widgets/controls",
            "_model_module_version": "1.5.0",
            "value": " 1/1 [00:03&lt;00:00,  3.45s/it]",
            "_view_count": null,
            "_view_module_version": "1.5.0",
            "description_tooltip": null,
            "_model_module": "@jupyter-widgets/controls",
            "layout": "IPY_MODEL_c2d1319743994269b5a842a8447af593"
          },
          "model_module_version": "1.5.0"
        },
        "4428dace9e0c4629a8fbc4ce2e6f581c": {
          "model_module": "@jupyter-widgets/controls",
          "model_name": "ProgressStyleModel",
          "state": {
            "_view_name": "StyleView",
            "_model_name": "ProgressStyleModel",
            "description_width": "initial",
            "_view_module": "@jupyter-widgets/base",
            "_model_module_version": "1.5.0",
            "_view_count": null,
            "_view_module_version": "1.2.0",
            "bar_color": null,
            "_model_module": "@jupyter-widgets/controls"
          },
          "model_module_version": "1.5.0"
        },
        "35874d324f0c4c8ea0725f92bccfb9b6": {
          "model_module": "@jupyter-widgets/base",
          "model_name": "LayoutModel",
          "state": {
            "_view_name": "LayoutView",
            "grid_template_rows": null,
            "right": null,
            "justify_content": null,
            "_view_module": "@jupyter-widgets/base",
            "overflow": null,
            "_model_module_version": "1.2.0",
            "_view_count": null,
            "flex_flow": null,
            "width": null,
            "min_width": null,
            "border": null,
            "align_items": null,
            "bottom": null,
            "_model_module": "@jupyter-widgets/base",
            "top": null,
            "grid_column": null,
            "overflow_y": null,
            "overflow_x": null,
            "grid_auto_flow": null,
            "grid_area": null,
            "grid_template_columns": null,
            "flex": "2",
            "_model_name": "LayoutModel",
            "justify_items": null,
            "grid_row": null,
            "max_height": null,
            "align_content": null,
            "visibility": null,
            "align_self": null,
            "height": null,
            "min_height": null,
            "padding": null,
            "grid_auto_rows": null,
            "grid_gap": null,
            "max_width": null,
            "order": null,
            "_view_module_version": "1.2.0",
            "grid_template_areas": null,
            "object_position": null,
            "object_fit": null,
            "grid_auto_columns": null,
            "margin": null,
            "display": null,
            "left": null
          },
          "model_module_version": "1.2.0"
        },
        "7028de95688e4eccad8b0b6021623fb4": {
          "model_module": "@jupyter-widgets/controls",
          "model_name": "DescriptionStyleModel",
          "state": {
            "_view_name": "StyleView",
            "_model_name": "DescriptionStyleModel",
            "description_width": "",
            "_view_module": "@jupyter-widgets/base",
            "_model_module_version": "1.5.0",
            "_view_count": null,
            "_view_module_version": "1.2.0",
            "_model_module": "@jupyter-widgets/controls"
          },
          "model_module_version": "1.5.0"
        },
        "c2d1319743994269b5a842a8447af593": {
          "model_module": "@jupyter-widgets/base",
          "model_name": "LayoutModel",
          "state": {
            "_view_name": "LayoutView",
            "grid_template_rows": null,
            "right": null,
            "justify_content": null,
            "_view_module": "@jupyter-widgets/base",
            "overflow": null,
            "_model_module_version": "1.2.0",
            "_view_count": null,
            "flex_flow": null,
            "width": null,
            "min_width": null,
            "border": null,
            "align_items": null,
            "bottom": null,
            "_model_module": "@jupyter-widgets/base",
            "top": null,
            "grid_column": null,
            "overflow_y": null,
            "overflow_x": null,
            "grid_auto_flow": null,
            "grid_area": null,
            "grid_template_columns": null,
            "flex": null,
            "_model_name": "LayoutModel",
            "justify_items": null,
            "grid_row": null,
            "max_height": null,
            "align_content": null,
            "visibility": null,
            "align_self": null,
            "height": null,
            "min_height": null,
            "padding": null,
            "grid_auto_rows": null,
            "grid_gap": null,
            "max_width": null,
            "order": null,
            "_view_module_version": "1.2.0",
            "grid_template_areas": null,
            "object_position": null,
            "object_fit": null,
            "grid_auto_columns": null,
            "margin": null,
            "display": null,
            "left": null
          },
          "model_module_version": "1.2.0"
        },
        "a0f484ab0dff4b06b9ae0f87de43f350": {
          "model_module": "@jupyter-widgets/controls",
          "model_name": "HBoxModel",
          "state": {
            "_view_name": "HBoxView",
            "_dom_classes": [],
            "_model_name": "HBoxModel",
            "_view_module": "@jupyter-widgets/controls",
            "_model_module_version": "1.5.0",
            "_view_count": null,
            "_view_module_version": "1.5.0",
            "box_style": "",
            "layout": "IPY_MODEL_f3732b85c4bd4729812cc77678144017",
            "_model_module": "@jupyter-widgets/controls",
            "children": [
              "IPY_MODEL_0cd9f06e07fa4de2ae0510d02e6305cf",
              "IPY_MODEL_79ce8038acf44d1ea1eaba5255f6d634"
            ]
          },
          "model_module_version": "1.5.0"
        },
        "f3732b85c4bd4729812cc77678144017": {
          "model_module": "@jupyter-widgets/base",
          "model_name": "LayoutModel",
          "state": {
            "_view_name": "LayoutView",
            "grid_template_rows": null,
            "right": null,
            "justify_content": null,
            "_view_module": "@jupyter-widgets/base",
            "overflow": null,
            "_model_module_version": "1.2.0",
            "_view_count": null,
            "flex_flow": "row wrap",
            "width": "100%",
            "min_width": null,
            "border": null,
            "align_items": null,
            "bottom": null,
            "_model_module": "@jupyter-widgets/base",
            "top": null,
            "grid_column": null,
            "overflow_y": null,
            "overflow_x": null,
            "grid_auto_flow": null,
            "grid_area": null,
            "grid_template_columns": null,
            "flex": null,
            "_model_name": "LayoutModel",
            "justify_items": null,
            "grid_row": null,
            "max_height": null,
            "align_content": null,
            "visibility": null,
            "align_self": null,
            "height": null,
            "min_height": null,
            "padding": null,
            "grid_auto_rows": null,
            "grid_gap": null,
            "max_width": null,
            "order": null,
            "_view_module_version": "1.2.0",
            "grid_template_areas": null,
            "object_position": null,
            "object_fit": null,
            "grid_auto_columns": null,
            "margin": null,
            "display": "inline-flex",
            "left": null
          },
          "model_module_version": "1.2.0"
        },
        "0cd9f06e07fa4de2ae0510d02e6305cf": {
          "model_module": "@jupyter-widgets/controls",
          "model_name": "FloatProgressModel",
          "state": {
            "_view_name": "ProgressView",
            "style": "IPY_MODEL_05f22f516e1146be959355f9d00c60e2",
            "_dom_classes": [],
            "description": "Validation sanity check: 100%",
            "_model_name": "FloatProgressModel",
            "bar_style": "info",
            "max": 1,
            "_view_module": "@jupyter-widgets/controls",
            "_model_module_version": "1.5.0",
            "value": 1,
            "_view_count": null,
            "_view_module_version": "1.5.0",
            "orientation": "horizontal",
            "min": 0,
            "description_tooltip": null,
            "_model_module": "@jupyter-widgets/controls",
            "layout": "IPY_MODEL_9f714d17f18749088d9c21dcca242cf5"
          },
          "model_module_version": "1.5.0"
        },
        "79ce8038acf44d1ea1eaba5255f6d634": {
          "model_module": "@jupyter-widgets/controls",
          "model_name": "HTMLModel",
          "state": {
            "_view_name": "HTMLView",
            "style": "IPY_MODEL_6e0147a5f6364a6780779125359a62bb",
            "_dom_classes": [],
            "description": "",
            "_model_name": "HTMLModel",
            "placeholder": "​",
            "_view_module": "@jupyter-widgets/controls",
            "_model_module_version": "1.5.0",
            "value": " 2/2 [00:04&lt;00:00,  2.66s/it]",
            "_view_count": null,
            "_view_module_version": "1.5.0",
            "description_tooltip": null,
            "_model_module": "@jupyter-widgets/controls",
            "layout": "IPY_MODEL_06cd5b17b3f7471abaf230d55789c512"
          },
          "model_module_version": "1.5.0"
        },
        "05f22f516e1146be959355f9d00c60e2": {
          "model_module": "@jupyter-widgets/controls",
          "model_name": "ProgressStyleModel",
          "state": {
            "_view_name": "StyleView",
            "_model_name": "ProgressStyleModel",
            "description_width": "initial",
            "_view_module": "@jupyter-widgets/base",
            "_model_module_version": "1.5.0",
            "_view_count": null,
            "_view_module_version": "1.2.0",
            "bar_color": null,
            "_model_module": "@jupyter-widgets/controls"
          },
          "model_module_version": "1.5.0"
        },
        "9f714d17f18749088d9c21dcca242cf5": {
          "model_module": "@jupyter-widgets/base",
          "model_name": "LayoutModel",
          "state": {
            "_view_name": "LayoutView",
            "grid_template_rows": null,
            "right": null,
            "justify_content": null,
            "_view_module": "@jupyter-widgets/base",
            "overflow": null,
            "_model_module_version": "1.2.0",
            "_view_count": null,
            "flex_flow": null,
            "width": null,
            "min_width": null,
            "border": null,
            "align_items": null,
            "bottom": null,
            "_model_module": "@jupyter-widgets/base",
            "top": null,
            "grid_column": null,
            "overflow_y": null,
            "overflow_x": null,
            "grid_auto_flow": null,
            "grid_area": null,
            "grid_template_columns": null,
            "flex": "2",
            "_model_name": "LayoutModel",
            "justify_items": null,
            "grid_row": null,
            "max_height": null,
            "align_content": null,
            "visibility": null,
            "align_self": null,
            "height": null,
            "min_height": null,
            "padding": null,
            "grid_auto_rows": null,
            "grid_gap": null,
            "max_width": null,
            "order": null,
            "_view_module_version": "1.2.0",
            "grid_template_areas": null,
            "object_position": null,
            "object_fit": null,
            "grid_auto_columns": null,
            "margin": null,
            "display": null,
            "left": null
          },
          "model_module_version": "1.2.0"
        },
        "6e0147a5f6364a6780779125359a62bb": {
          "model_module": "@jupyter-widgets/controls",
          "model_name": "DescriptionStyleModel",
          "state": {
            "_view_name": "StyleView",
            "_model_name": "DescriptionStyleModel",
            "description_width": "",
            "_view_module": "@jupyter-widgets/base",
            "_model_module_version": "1.5.0",
            "_view_count": null,
            "_view_module_version": "1.2.0",
            "_model_module": "@jupyter-widgets/controls"
          },
          "model_module_version": "1.5.0"
        },
        "06cd5b17b3f7471abaf230d55789c512": {
          "model_module": "@jupyter-widgets/base",
          "model_name": "LayoutModel",
          "state": {
            "_view_name": "LayoutView",
            "grid_template_rows": null,
            "right": null,
            "justify_content": null,
            "_view_module": "@jupyter-widgets/base",
            "overflow": null,
            "_model_module_version": "1.2.0",
            "_view_count": null,
            "flex_flow": null,
            "width": null,
            "min_width": null,
            "border": null,
            "align_items": null,
            "bottom": null,
            "_model_module": "@jupyter-widgets/base",
            "top": null,
            "grid_column": null,
            "overflow_y": null,
            "overflow_x": null,
            "grid_auto_flow": null,
            "grid_area": null,
            "grid_template_columns": null,
            "flex": null,
            "_model_name": "LayoutModel",
            "justify_items": null,
            "grid_row": null,
            "max_height": null,
            "align_content": null,
            "visibility": null,
            "align_self": null,
            "height": null,
            "min_height": null,
            "padding": null,
            "grid_auto_rows": null,
            "grid_gap": null,
            "max_width": null,
            "order": null,
            "_view_module_version": "1.2.0",
            "grid_template_areas": null,
            "object_position": null,
            "object_fit": null,
            "grid_auto_columns": null,
            "margin": null,
            "display": null,
            "left": null
          },
          "model_module_version": "1.2.0"
        },
        "0bb289ddb1904f0984fc6a5a56ddca47": {
          "model_module": "@jupyter-widgets/controls",
          "model_name": "HBoxModel",
          "state": {
            "_view_name": "HBoxView",
            "_dom_classes": [],
            "_model_name": "HBoxModel",
            "_view_module": "@jupyter-widgets/controls",
            "_model_module_version": "1.5.0",
            "_view_count": null,
            "_view_module_version": "1.5.0",
            "box_style": "",
            "layout": "IPY_MODEL_323a74429d764bdab296ab094c452b9f",
            "_model_module": "@jupyter-widgets/controls",
            "children": [
              "IPY_MODEL_7f744619b59c4dc58ea99eae6f7fb9e0",
              "IPY_MODEL_c76896e765db4acbba639f5474b7bc8b"
            ]
          },
          "model_module_version": "1.5.0"
        },
        "323a74429d764bdab296ab094c452b9f": {
          "model_module": "@jupyter-widgets/base",
          "model_name": "LayoutModel",
          "state": {
            "_view_name": "LayoutView",
            "grid_template_rows": null,
            "right": null,
            "justify_content": null,
            "_view_module": "@jupyter-widgets/base",
            "overflow": null,
            "_model_module_version": "1.2.0",
            "_view_count": null,
            "flex_flow": "row wrap",
            "width": "100%",
            "min_width": null,
            "border": null,
            "align_items": null,
            "bottom": null,
            "_model_module": "@jupyter-widgets/base",
            "top": null,
            "grid_column": null,
            "overflow_y": null,
            "overflow_x": null,
            "grid_auto_flow": null,
            "grid_area": null,
            "grid_template_columns": null,
            "flex": null,
            "_model_name": "LayoutModel",
            "justify_items": null,
            "grid_row": null,
            "max_height": null,
            "align_content": null,
            "visibility": null,
            "align_self": null,
            "height": null,
            "min_height": null,
            "padding": null,
            "grid_auto_rows": null,
            "grid_gap": null,
            "max_width": null,
            "order": null,
            "_view_module_version": "1.2.0",
            "grid_template_areas": null,
            "object_position": null,
            "object_fit": null,
            "grid_auto_columns": null,
            "margin": null,
            "display": "inline-flex",
            "left": null
          },
          "model_module_version": "1.2.0"
        },
        "7f744619b59c4dc58ea99eae6f7fb9e0": {
          "model_module": "@jupyter-widgets/controls",
          "model_name": "FloatProgressModel",
          "state": {
            "_view_name": "ProgressView",
            "style": "IPY_MODEL_75b2ae05b7784879afac3e5bf3f856cb",
            "_dom_classes": [],
            "description": "Epoch 29: ",
            "_model_name": "FloatProgressModel",
            "bar_style": "success",
            "max": 15,
            "_view_module": "@jupyter-widgets/controls",
            "_model_module_version": "1.5.0",
            "value": 15,
            "_view_count": null,
            "_view_module_version": "1.5.0",
            "orientation": "horizontal",
            "min": 0,
            "description_tooltip": null,
            "_model_module": "@jupyter-widgets/controls",
            "layout": "IPY_MODEL_8cc06436ab6f4e17bdc3a2a0dd39aa82"
          },
          "model_module_version": "1.5.0"
        },
        "c76896e765db4acbba639f5474b7bc8b": {
          "model_module": "@jupyter-widgets/controls",
          "model_name": "HTMLModel",
          "state": {
            "_view_name": "HTMLView",
            "style": "IPY_MODEL_15d3b534c3c74eb5b36a9287f9c5de4a",
            "_dom_classes": [],
            "description": "",
            "_model_name": "HTMLModel",
            "placeholder": "​",
            "_view_module": "@jupyter-widgets/controls",
            "_model_module_version": "1.5.0",
            "value": " 30/? [00:53&lt;00:00,  1.77s/it, loss=0.147, v_num=4, gpu_usage=100%, avg_val_bleu=73.9]",
            "_view_count": null,
            "_view_module_version": "1.5.0",
            "description_tooltip": null,
            "_model_module": "@jupyter-widgets/controls",
            "layout": "IPY_MODEL_8bf3d4937cf84a9c8830868d7fd2db9b"
          },
          "model_module_version": "1.5.0"
        },
        "75b2ae05b7784879afac3e5bf3f856cb": {
          "model_module": "@jupyter-widgets/controls",
          "model_name": "ProgressStyleModel",
          "state": {
            "_view_name": "StyleView",
            "_model_name": "ProgressStyleModel",
            "description_width": "initial",
            "_view_module": "@jupyter-widgets/base",
            "_model_module_version": "1.5.0",
            "_view_count": null,
            "_view_module_version": "1.2.0",
            "bar_color": null,
            "_model_module": "@jupyter-widgets/controls"
          },
          "model_module_version": "1.5.0"
        },
        "8cc06436ab6f4e17bdc3a2a0dd39aa82": {
          "model_module": "@jupyter-widgets/base",
          "model_name": "LayoutModel",
          "state": {
            "_view_name": "LayoutView",
            "grid_template_rows": null,
            "right": null,
            "justify_content": null,
            "_view_module": "@jupyter-widgets/base",
            "overflow": null,
            "_model_module_version": "1.2.0",
            "_view_count": null,
            "flex_flow": null,
            "width": null,
            "min_width": null,
            "border": null,
            "align_items": null,
            "bottom": null,
            "_model_module": "@jupyter-widgets/base",
            "top": null,
            "grid_column": null,
            "overflow_y": null,
            "overflow_x": null,
            "grid_auto_flow": null,
            "grid_area": null,
            "grid_template_columns": null,
            "flex": "2",
            "_model_name": "LayoutModel",
            "justify_items": null,
            "grid_row": null,
            "max_height": null,
            "align_content": null,
            "visibility": null,
            "align_self": null,
            "height": null,
            "min_height": null,
            "padding": null,
            "grid_auto_rows": null,
            "grid_gap": null,
            "max_width": null,
            "order": null,
            "_view_module_version": "1.2.0",
            "grid_template_areas": null,
            "object_position": null,
            "object_fit": null,
            "grid_auto_columns": null,
            "margin": null,
            "display": null,
            "left": null
          },
          "model_module_version": "1.2.0"
        },
        "15d3b534c3c74eb5b36a9287f9c5de4a": {
          "model_module": "@jupyter-widgets/controls",
          "model_name": "DescriptionStyleModel",
          "state": {
            "_view_name": "StyleView",
            "_model_name": "DescriptionStyleModel",
            "description_width": "",
            "_view_module": "@jupyter-widgets/base",
            "_model_module_version": "1.5.0",
            "_view_count": null,
            "_view_module_version": "1.2.0",
            "_model_module": "@jupyter-widgets/controls"
          },
          "model_module_version": "1.5.0"
        },
        "8bf3d4937cf84a9c8830868d7fd2db9b": {
          "model_module": "@jupyter-widgets/base",
          "model_name": "LayoutModel",
          "state": {
            "_view_name": "LayoutView",
            "grid_template_rows": null,
            "right": null,
            "justify_content": null,
            "_view_module": "@jupyter-widgets/base",
            "overflow": null,
            "_model_module_version": "1.2.0",
            "_view_count": null,
            "flex_flow": null,
            "width": null,
            "min_width": null,
            "border": null,
            "align_items": null,
            "bottom": null,
            "_model_module": "@jupyter-widgets/base",
            "top": null,
            "grid_column": null,
            "overflow_y": null,
            "overflow_x": null,
            "grid_auto_flow": null,
            "grid_area": null,
            "grid_template_columns": null,
            "flex": null,
            "_model_name": "LayoutModel",
            "justify_items": null,
            "grid_row": null,
            "max_height": null,
            "align_content": null,
            "visibility": null,
            "align_self": null,
            "height": null,
            "min_height": null,
            "padding": null,
            "grid_auto_rows": null,
            "grid_gap": null,
            "max_width": null,
            "order": null,
            "_view_module_version": "1.2.0",
            "grid_template_areas": null,
            "object_position": null,
            "object_fit": null,
            "grid_auto_columns": null,
            "margin": null,
            "display": null,
            "left": null
          },
          "model_module_version": "1.2.0"
        },
        "714887a58b2544cfb11a7f997e657593": {
          "model_module": "@jupyter-widgets/controls",
          "model_name": "HBoxModel",
          "state": {
            "_view_name": "HBoxView",
            "_dom_classes": [],
            "_model_name": "HBoxModel",
            "_view_module": "@jupyter-widgets/controls",
            "_model_module_version": "1.5.0",
            "_view_count": null,
            "_view_module_version": "1.5.0",
            "box_style": "",
            "layout": "IPY_MODEL_f68375c763874880a39b5b93b1e8e0b8",
            "_model_module": "@jupyter-widgets/controls",
            "children": [
              "IPY_MODEL_7ba5ff03d5af429ea791e8bdc17c2b94",
              "IPY_MODEL_bbf4b295869c441db060e0115ff1dfc0"
            ]
          },
          "model_module_version": "1.5.0"
        },
        "f68375c763874880a39b5b93b1e8e0b8": {
          "model_module": "@jupyter-widgets/base",
          "model_name": "LayoutModel",
          "state": {
            "_view_name": "LayoutView",
            "grid_template_rows": null,
            "right": null,
            "justify_content": null,
            "_view_module": "@jupyter-widgets/base",
            "overflow": null,
            "_model_module_version": "1.2.0",
            "_view_count": null,
            "flex_flow": "row wrap",
            "width": "100%",
            "min_width": null,
            "border": null,
            "align_items": null,
            "bottom": null,
            "_model_module": "@jupyter-widgets/base",
            "top": null,
            "grid_column": null,
            "overflow_y": null,
            "overflow_x": null,
            "grid_auto_flow": null,
            "grid_area": null,
            "grid_template_columns": null,
            "flex": null,
            "_model_name": "LayoutModel",
            "justify_items": null,
            "grid_row": null,
            "max_height": null,
            "align_content": null,
            "visibility": null,
            "align_self": null,
            "height": null,
            "min_height": null,
            "padding": null,
            "grid_auto_rows": null,
            "grid_gap": null,
            "max_width": null,
            "order": null,
            "_view_module_version": "1.2.0",
            "grid_template_areas": null,
            "object_position": null,
            "object_fit": null,
            "grid_auto_columns": null,
            "margin": null,
            "display": "inline-flex",
            "left": null
          },
          "model_module_version": "1.2.0"
        },
        "7ba5ff03d5af429ea791e8bdc17c2b94": {
          "model_module": "@jupyter-widgets/controls",
          "model_name": "FloatProgressModel",
          "state": {
            "_view_name": "ProgressView",
            "style": "IPY_MODEL_242050a5641246b5b58eeace7d53e1e5",
            "_dom_classes": [],
            "description": "Validating: ",
            "_model_name": "FloatProgressModel",
            "bar_style": "info",
            "max": 1,
            "_view_module": "@jupyter-widgets/controls",
            "_model_module_version": "1.5.0",
            "value": 1,
            "_view_count": null,
            "_view_module_version": "1.5.0",
            "orientation": "horizontal",
            "min": 0,
            "description_tooltip": null,
            "_model_module": "@jupyter-widgets/controls",
            "layout": "IPY_MODEL_3fcaefb812f84e8186a1fc12d195a4b2"
          },
          "model_module_version": "1.5.0"
        },
        "bbf4b295869c441db060e0115ff1dfc0": {
          "model_module": "@jupyter-widgets/controls",
          "model_name": "HTMLModel",
          "state": {
            "_view_name": "HTMLView",
            "style": "IPY_MODEL_98cfa442ed4544eab63a82ae468e3830",
            "_dom_classes": [],
            "description": "",
            "_model_name": "HTMLModel",
            "placeholder": "​",
            "_view_module": "@jupyter-widgets/controls",
            "_model_module_version": "1.5.0",
            "value": " 15/0 [00:44&lt;00:00,  2.94s/it]",
            "_view_count": null,
            "_view_module_version": "1.5.0",
            "description_tooltip": null,
            "_model_module": "@jupyter-widgets/controls",
            "layout": "IPY_MODEL_05fb5b3f2b184acba89aeafbc63017dc"
          },
          "model_module_version": "1.5.0"
        },
        "242050a5641246b5b58eeace7d53e1e5": {
          "model_module": "@jupyter-widgets/controls",
          "model_name": "ProgressStyleModel",
          "state": {
            "_view_name": "StyleView",
            "_model_name": "ProgressStyleModel",
            "description_width": "initial",
            "_view_module": "@jupyter-widgets/base",
            "_model_module_version": "1.5.0",
            "_view_count": null,
            "_view_module_version": "1.2.0",
            "bar_color": null,
            "_model_module": "@jupyter-widgets/controls"
          },
          "model_module_version": "1.5.0"
        },
        "3fcaefb812f84e8186a1fc12d195a4b2": {
          "model_module": "@jupyter-widgets/base",
          "model_name": "LayoutModel",
          "state": {
            "_view_name": "LayoutView",
            "grid_template_rows": null,
            "right": null,
            "justify_content": null,
            "_view_module": "@jupyter-widgets/base",
            "overflow": null,
            "_model_module_version": "1.2.0",
            "_view_count": null,
            "flex_flow": null,
            "width": null,
            "min_width": null,
            "border": null,
            "align_items": null,
            "bottom": null,
            "_model_module": "@jupyter-widgets/base",
            "top": null,
            "grid_column": null,
            "overflow_y": null,
            "overflow_x": null,
            "grid_auto_flow": null,
            "grid_area": null,
            "grid_template_columns": null,
            "flex": "2",
            "_model_name": "LayoutModel",
            "justify_items": null,
            "grid_row": null,
            "max_height": null,
            "align_content": null,
            "visibility": null,
            "align_self": null,
            "height": null,
            "min_height": null,
            "padding": null,
            "grid_auto_rows": null,
            "grid_gap": null,
            "max_width": null,
            "order": null,
            "_view_module_version": "1.2.0",
            "grid_template_areas": null,
            "object_position": null,
            "object_fit": null,
            "grid_auto_columns": null,
            "margin": null,
            "display": null,
            "left": null
          },
          "model_module_version": "1.2.0"
        },
        "98cfa442ed4544eab63a82ae468e3830": {
          "model_module": "@jupyter-widgets/controls",
          "model_name": "DescriptionStyleModel",
          "state": {
            "_view_name": "StyleView",
            "_model_name": "DescriptionStyleModel",
            "description_width": "",
            "_view_module": "@jupyter-widgets/base",
            "_model_module_version": "1.5.0",
            "_view_count": null,
            "_view_module_version": "1.2.0",
            "_model_module": "@jupyter-widgets/controls"
          },
          "model_module_version": "1.5.0"
        },
        "05fb5b3f2b184acba89aeafbc63017dc": {
          "model_module": "@jupyter-widgets/base",
          "model_name": "LayoutModel",
          "state": {
            "_view_name": "LayoutView",
            "grid_template_rows": null,
            "right": null,
            "justify_content": null,
            "_view_module": "@jupyter-widgets/base",
            "overflow": null,
            "_model_module_version": "1.2.0",
            "_view_count": null,
            "flex_flow": null,
            "width": null,
            "min_width": null,
            "border": null,
            "align_items": null,
            "bottom": null,
            "_model_module": "@jupyter-widgets/base",
            "top": null,
            "grid_column": null,
            "overflow_y": null,
            "overflow_x": null,
            "grid_auto_flow": null,
            "grid_area": null,
            "grid_template_columns": null,
            "flex": null,
            "_model_name": "LayoutModel",
            "justify_items": null,
            "grid_row": null,
            "max_height": null,
            "align_content": null,
            "visibility": null,
            "align_self": null,
            "height": null,
            "min_height": null,
            "padding": null,
            "grid_auto_rows": null,
            "grid_gap": null,
            "max_width": null,
            "order": null,
            "_view_module_version": "1.2.0",
            "grid_template_areas": null,
            "object_position": null,
            "object_fit": null,
            "grid_auto_columns": null,
            "margin": null,
            "display": null,
            "left": null
          },
          "model_module_version": "1.2.0"
        },
        "b667c45fba3a45e2a98df41eb4041b3a": {
          "model_module": "@jupyter-widgets/controls",
          "model_name": "HBoxModel",
          "state": {
            "_view_name": "HBoxView",
            "_dom_classes": [],
            "_model_name": "HBoxModel",
            "_view_module": "@jupyter-widgets/controls",
            "_model_module_version": "1.5.0",
            "_view_count": null,
            "_view_module_version": "1.5.0",
            "box_style": "",
            "layout": "IPY_MODEL_f53ec1bd0be9416190f078aa2ed64623",
            "_model_module": "@jupyter-widgets/controls",
            "children": [
              "IPY_MODEL_7d25554915884ca0bcd6cfb9ea11ef21",
              "IPY_MODEL_a522c6af93554ac19ff25b5ac50402c4"
            ]
          },
          "model_module_version": "1.5.0"
        },
        "f53ec1bd0be9416190f078aa2ed64623": {
          "model_module": "@jupyter-widgets/base",
          "model_name": "LayoutModel",
          "state": {
            "_view_name": "LayoutView",
            "grid_template_rows": null,
            "right": null,
            "justify_content": null,
            "_view_module": "@jupyter-widgets/base",
            "overflow": null,
            "_model_module_version": "1.2.0",
            "_view_count": null,
            "flex_flow": "row wrap",
            "width": "100%",
            "min_width": null,
            "border": null,
            "align_items": null,
            "bottom": null,
            "_model_module": "@jupyter-widgets/base",
            "top": null,
            "grid_column": null,
            "overflow_y": null,
            "overflow_x": null,
            "grid_auto_flow": null,
            "grid_area": null,
            "grid_template_columns": null,
            "flex": null,
            "_model_name": "LayoutModel",
            "justify_items": null,
            "grid_row": null,
            "max_height": null,
            "align_content": null,
            "visibility": null,
            "align_self": null,
            "height": null,
            "min_height": null,
            "padding": null,
            "grid_auto_rows": null,
            "grid_gap": null,
            "max_width": null,
            "order": null,
            "_view_module_version": "1.2.0",
            "grid_template_areas": null,
            "object_position": null,
            "object_fit": null,
            "grid_auto_columns": null,
            "margin": null,
            "display": "inline-flex",
            "left": null
          },
          "model_module_version": "1.2.0"
        },
        "7d25554915884ca0bcd6cfb9ea11ef21": {
          "model_module": "@jupyter-widgets/controls",
          "model_name": "FloatProgressModel",
          "state": {
            "_view_name": "ProgressView",
            "style": "IPY_MODEL_e556594c9ad34975be685d4179240419",
            "_dom_classes": [],
            "description": "Validating: ",
            "_model_name": "FloatProgressModel",
            "bar_style": "info",
            "max": 1,
            "_view_module": "@jupyter-widgets/controls",
            "_model_module_version": "1.5.0",
            "value": 1,
            "_view_count": null,
            "_view_module_version": "1.5.0",
            "orientation": "horizontal",
            "min": 0,
            "description_tooltip": null,
            "_model_module": "@jupyter-widgets/controls",
            "layout": "IPY_MODEL_8e386fada5044f319448058c0b6c3928"
          },
          "model_module_version": "1.5.0"
        },
        "a522c6af93554ac19ff25b5ac50402c4": {
          "model_module": "@jupyter-widgets/controls",
          "model_name": "HTMLModel",
          "state": {
            "_view_name": "HTMLView",
            "style": "IPY_MODEL_a6b1b4cc1a25403b9e0dde63b16fa48c",
            "_dom_classes": [],
            "description": "",
            "_model_name": "HTMLModel",
            "placeholder": "​",
            "_view_module": "@jupyter-widgets/controls",
            "_model_module_version": "1.5.0",
            "value": " 15/0 [00:45&lt;00:00,  3.01s/it]",
            "_view_count": null,
            "_view_module_version": "1.5.0",
            "description_tooltip": null,
            "_model_module": "@jupyter-widgets/controls",
            "layout": "IPY_MODEL_207eb4095c704736b18d732fe6a1f96b"
          },
          "model_module_version": "1.5.0"
        },
        "e556594c9ad34975be685d4179240419": {
          "model_module": "@jupyter-widgets/controls",
          "model_name": "ProgressStyleModel",
          "state": {
            "_view_name": "StyleView",
            "_model_name": "ProgressStyleModel",
            "description_width": "initial",
            "_view_module": "@jupyter-widgets/base",
            "_model_module_version": "1.5.0",
            "_view_count": null,
            "_view_module_version": "1.2.0",
            "bar_color": null,
            "_model_module": "@jupyter-widgets/controls"
          },
          "model_module_version": "1.5.0"
        },
        "8e386fada5044f319448058c0b6c3928": {
          "model_module": "@jupyter-widgets/base",
          "model_name": "LayoutModel",
          "state": {
            "_view_name": "LayoutView",
            "grid_template_rows": null,
            "right": null,
            "justify_content": null,
            "_view_module": "@jupyter-widgets/base",
            "overflow": null,
            "_model_module_version": "1.2.0",
            "_view_count": null,
            "flex_flow": null,
            "width": null,
            "min_width": null,
            "border": null,
            "align_items": null,
            "bottom": null,
            "_model_module": "@jupyter-widgets/base",
            "top": null,
            "grid_column": null,
            "overflow_y": null,
            "overflow_x": null,
            "grid_auto_flow": null,
            "grid_area": null,
            "grid_template_columns": null,
            "flex": "2",
            "_model_name": "LayoutModel",
            "justify_items": null,
            "grid_row": null,
            "max_height": null,
            "align_content": null,
            "visibility": null,
            "align_self": null,
            "height": null,
            "min_height": null,
            "padding": null,
            "grid_auto_rows": null,
            "grid_gap": null,
            "max_width": null,
            "order": null,
            "_view_module_version": "1.2.0",
            "grid_template_areas": null,
            "object_position": null,
            "object_fit": null,
            "grid_auto_columns": null,
            "margin": null,
            "display": null,
            "left": null
          },
          "model_module_version": "1.2.0"
        },
        "a6b1b4cc1a25403b9e0dde63b16fa48c": {
          "model_module": "@jupyter-widgets/controls",
          "model_name": "DescriptionStyleModel",
          "state": {
            "_view_name": "StyleView",
            "_model_name": "DescriptionStyleModel",
            "description_width": "",
            "_view_module": "@jupyter-widgets/base",
            "_model_module_version": "1.5.0",
            "_view_count": null,
            "_view_module_version": "1.2.0",
            "_model_module": "@jupyter-widgets/controls"
          },
          "model_module_version": "1.5.0"
        },
        "207eb4095c704736b18d732fe6a1f96b": {
          "model_module": "@jupyter-widgets/base",
          "model_name": "LayoutModel",
          "state": {
            "_view_name": "LayoutView",
            "grid_template_rows": null,
            "right": null,
            "justify_content": null,
            "_view_module": "@jupyter-widgets/base",
            "overflow": null,
            "_model_module_version": "1.2.0",
            "_view_count": null,
            "flex_flow": null,
            "width": null,
            "min_width": null,
            "border": null,
            "align_items": null,
            "bottom": null,
            "_model_module": "@jupyter-widgets/base",
            "top": null,
            "grid_column": null,
            "overflow_y": null,
            "overflow_x": null,
            "grid_auto_flow": null,
            "grid_area": null,
            "grid_template_columns": null,
            "flex": null,
            "_model_name": "LayoutModel",
            "justify_items": null,
            "grid_row": null,
            "max_height": null,
            "align_content": null,
            "visibility": null,
            "align_self": null,
            "height": null,
            "min_height": null,
            "padding": null,
            "grid_auto_rows": null,
            "grid_gap": null,
            "max_width": null,
            "order": null,
            "_view_module_version": "1.2.0",
            "grid_template_areas": null,
            "object_position": null,
            "object_fit": null,
            "grid_auto_columns": null,
            "margin": null,
            "display": null,
            "left": null
          },
          "model_module_version": "1.2.0"
        },
        "998b4d78067d45cc8e1e59150171e66e": {
          "model_module": "@jupyter-widgets/controls",
          "model_name": "HBoxModel",
          "state": {
            "_view_name": "HBoxView",
            "_dom_classes": [],
            "_model_name": "HBoxModel",
            "_view_module": "@jupyter-widgets/controls",
            "_model_module_version": "1.5.0",
            "_view_count": null,
            "_view_module_version": "1.5.0",
            "box_style": "",
            "layout": "IPY_MODEL_cdac0f76f60847b990d21a85c57f9152",
            "_model_module": "@jupyter-widgets/controls",
            "children": [
              "IPY_MODEL_0cad87e5be40491caab379383240e8b2",
              "IPY_MODEL_66f34fe93499403c9b286393591c65a9"
            ]
          },
          "model_module_version": "1.5.0"
        },
        "cdac0f76f60847b990d21a85c57f9152": {
          "model_module": "@jupyter-widgets/base",
          "model_name": "LayoutModel",
          "state": {
            "_view_name": "LayoutView",
            "grid_template_rows": null,
            "right": null,
            "justify_content": null,
            "_view_module": "@jupyter-widgets/base",
            "overflow": null,
            "_model_module_version": "1.2.0",
            "_view_count": null,
            "flex_flow": "row wrap",
            "width": "100%",
            "min_width": null,
            "border": null,
            "align_items": null,
            "bottom": null,
            "_model_module": "@jupyter-widgets/base",
            "top": null,
            "grid_column": null,
            "overflow_y": null,
            "overflow_x": null,
            "grid_auto_flow": null,
            "grid_area": null,
            "grid_template_columns": null,
            "flex": null,
            "_model_name": "LayoutModel",
            "justify_items": null,
            "grid_row": null,
            "max_height": null,
            "align_content": null,
            "visibility": null,
            "align_self": null,
            "height": null,
            "min_height": null,
            "padding": null,
            "grid_auto_rows": null,
            "grid_gap": null,
            "max_width": null,
            "order": null,
            "_view_module_version": "1.2.0",
            "grid_template_areas": null,
            "object_position": null,
            "object_fit": null,
            "grid_auto_columns": null,
            "margin": null,
            "display": "inline-flex",
            "left": null
          },
          "model_module_version": "1.2.0"
        },
        "0cad87e5be40491caab379383240e8b2": {
          "model_module": "@jupyter-widgets/controls",
          "model_name": "FloatProgressModel",
          "state": {
            "_view_name": "ProgressView",
            "style": "IPY_MODEL_7153e31d24b842b5b4133b4bc2677a39",
            "_dom_classes": [],
            "description": "Validating: ",
            "_model_name": "FloatProgressModel",
            "bar_style": "info",
            "max": 1,
            "_view_module": "@jupyter-widgets/controls",
            "_model_module_version": "1.5.0",
            "value": 1,
            "_view_count": null,
            "_view_module_version": "1.5.0",
            "orientation": "horizontal",
            "min": 0,
            "description_tooltip": null,
            "_model_module": "@jupyter-widgets/controls",
            "layout": "IPY_MODEL_5e1921cd094e4dc488bd0ad2cb711485"
          },
          "model_module_version": "1.5.0"
        },
        "66f34fe93499403c9b286393591c65a9": {
          "model_module": "@jupyter-widgets/controls",
          "model_name": "HTMLModel",
          "state": {
            "_view_name": "HTMLView",
            "style": "IPY_MODEL_9f6b90ef9f9443aa893956351c7b9639",
            "_dom_classes": [],
            "description": "",
            "_model_name": "HTMLModel",
            "placeholder": "​",
            "_view_module": "@jupyter-widgets/controls",
            "_model_module_version": "1.5.0",
            "value": " 15/0 [00:44&lt;00:00,  2.92s/it]",
            "_view_count": null,
            "_view_module_version": "1.5.0",
            "description_tooltip": null,
            "_model_module": "@jupyter-widgets/controls",
            "layout": "IPY_MODEL_e8e49917edd84435a1050cd5a8a76eb6"
          },
          "model_module_version": "1.5.0"
        },
        "7153e31d24b842b5b4133b4bc2677a39": {
          "model_module": "@jupyter-widgets/controls",
          "model_name": "ProgressStyleModel",
          "state": {
            "_view_name": "StyleView",
            "_model_name": "ProgressStyleModel",
            "description_width": "initial",
            "_view_module": "@jupyter-widgets/base",
            "_model_module_version": "1.5.0",
            "_view_count": null,
            "_view_module_version": "1.2.0",
            "bar_color": null,
            "_model_module": "@jupyter-widgets/controls"
          },
          "model_module_version": "1.5.0"
        },
        "5e1921cd094e4dc488bd0ad2cb711485": {
          "model_module": "@jupyter-widgets/base",
          "model_name": "LayoutModel",
          "state": {
            "_view_name": "LayoutView",
            "grid_template_rows": null,
            "right": null,
            "justify_content": null,
            "_view_module": "@jupyter-widgets/base",
            "overflow": null,
            "_model_module_version": "1.2.0",
            "_view_count": null,
            "flex_flow": null,
            "width": null,
            "min_width": null,
            "border": null,
            "align_items": null,
            "bottom": null,
            "_model_module": "@jupyter-widgets/base",
            "top": null,
            "grid_column": null,
            "overflow_y": null,
            "overflow_x": null,
            "grid_auto_flow": null,
            "grid_area": null,
            "grid_template_columns": null,
            "flex": "2",
            "_model_name": "LayoutModel",
            "justify_items": null,
            "grid_row": null,
            "max_height": null,
            "align_content": null,
            "visibility": null,
            "align_self": null,
            "height": null,
            "min_height": null,
            "padding": null,
            "grid_auto_rows": null,
            "grid_gap": null,
            "max_width": null,
            "order": null,
            "_view_module_version": "1.2.0",
            "grid_template_areas": null,
            "object_position": null,
            "object_fit": null,
            "grid_auto_columns": null,
            "margin": null,
            "display": null,
            "left": null
          },
          "model_module_version": "1.2.0"
        },
        "9f6b90ef9f9443aa893956351c7b9639": {
          "model_module": "@jupyter-widgets/controls",
          "model_name": "DescriptionStyleModel",
          "state": {
            "_view_name": "StyleView",
            "_model_name": "DescriptionStyleModel",
            "description_width": "",
            "_view_module": "@jupyter-widgets/base",
            "_model_module_version": "1.5.0",
            "_view_count": null,
            "_view_module_version": "1.2.0",
            "_model_module": "@jupyter-widgets/controls"
          },
          "model_module_version": "1.5.0"
        },
        "e8e49917edd84435a1050cd5a8a76eb6": {
          "model_module": "@jupyter-widgets/base",
          "model_name": "LayoutModel",
          "state": {
            "_view_name": "LayoutView",
            "grid_template_rows": null,
            "right": null,
            "justify_content": null,
            "_view_module": "@jupyter-widgets/base",
            "overflow": null,
            "_model_module_version": "1.2.0",
            "_view_count": null,
            "flex_flow": null,
            "width": null,
            "min_width": null,
            "border": null,
            "align_items": null,
            "bottom": null,
            "_model_module": "@jupyter-widgets/base",
            "top": null,
            "grid_column": null,
            "overflow_y": null,
            "overflow_x": null,
            "grid_auto_flow": null,
            "grid_area": null,
            "grid_template_columns": null,
            "flex": null,
            "_model_name": "LayoutModel",
            "justify_items": null,
            "grid_row": null,
            "max_height": null,
            "align_content": null,
            "visibility": null,
            "align_self": null,
            "height": null,
            "min_height": null,
            "padding": null,
            "grid_auto_rows": null,
            "grid_gap": null,
            "max_width": null,
            "order": null,
            "_view_module_version": "1.2.0",
            "grid_template_areas": null,
            "object_position": null,
            "object_fit": null,
            "grid_auto_columns": null,
            "margin": null,
            "display": null,
            "left": null
          },
          "model_module_version": "1.2.0"
        },
        "1d57f0aa3b4b4f639f71fd4d36494aef": {
          "model_module": "@jupyter-widgets/controls",
          "model_name": "HBoxModel",
          "state": {
            "_view_name": "HBoxView",
            "_dom_classes": [],
            "_model_name": "HBoxModel",
            "_view_module": "@jupyter-widgets/controls",
            "_model_module_version": "1.5.0",
            "_view_count": null,
            "_view_module_version": "1.5.0",
            "box_style": "",
            "layout": "IPY_MODEL_8b829fa9957e4deda62e004679bd6c0f",
            "_model_module": "@jupyter-widgets/controls",
            "children": [
              "IPY_MODEL_5b1f6d3d6a804dfa994dc1fcc5cd6236",
              "IPY_MODEL_b9224b64e06c4a86962e5dd10e457de2"
            ]
          },
          "model_module_version": "1.5.0"
        },
        "8b829fa9957e4deda62e004679bd6c0f": {
          "model_module": "@jupyter-widgets/base",
          "model_name": "LayoutModel",
          "state": {
            "_view_name": "LayoutView",
            "grid_template_rows": null,
            "right": null,
            "justify_content": null,
            "_view_module": "@jupyter-widgets/base",
            "overflow": null,
            "_model_module_version": "1.2.0",
            "_view_count": null,
            "flex_flow": "row wrap",
            "width": "100%",
            "min_width": null,
            "border": null,
            "align_items": null,
            "bottom": null,
            "_model_module": "@jupyter-widgets/base",
            "top": null,
            "grid_column": null,
            "overflow_y": null,
            "overflow_x": null,
            "grid_auto_flow": null,
            "grid_area": null,
            "grid_template_columns": null,
            "flex": null,
            "_model_name": "LayoutModel",
            "justify_items": null,
            "grid_row": null,
            "max_height": null,
            "align_content": null,
            "visibility": null,
            "align_self": null,
            "height": null,
            "min_height": null,
            "padding": null,
            "grid_auto_rows": null,
            "grid_gap": null,
            "max_width": null,
            "order": null,
            "_view_module_version": "1.2.0",
            "grid_template_areas": null,
            "object_position": null,
            "object_fit": null,
            "grid_auto_columns": null,
            "margin": null,
            "display": "inline-flex",
            "left": null
          },
          "model_module_version": "1.2.0"
        },
        "5b1f6d3d6a804dfa994dc1fcc5cd6236": {
          "model_module": "@jupyter-widgets/controls",
          "model_name": "FloatProgressModel",
          "state": {
            "_view_name": "ProgressView",
            "style": "IPY_MODEL_69d2d95992704bc19f5d9f9a56d6e062",
            "_dom_classes": [],
            "description": "Validation sanity check:   0%",
            "_model_name": "FloatProgressModel",
            "bar_style": "danger",
            "max": 1,
            "_view_module": "@jupyter-widgets/controls",
            "_model_module_version": "1.5.0",
            "value": 0,
            "_view_count": null,
            "_view_module_version": "1.5.0",
            "orientation": "horizontal",
            "min": 0,
            "description_tooltip": null,
            "_model_module": "@jupyter-widgets/controls",
            "layout": "IPY_MODEL_feade97a74214522acd7f581b7048880"
          },
          "model_module_version": "1.5.0"
        },
        "b9224b64e06c4a86962e5dd10e457de2": {
          "model_module": "@jupyter-widgets/controls",
          "model_name": "HTMLModel",
          "state": {
            "_view_name": "HTMLView",
            "style": "IPY_MODEL_8526cbc65d5d4629b00e3ad5bfe40e17",
            "_dom_classes": [],
            "description": "",
            "_model_name": "HTMLModel",
            "placeholder": "​",
            "_view_module": "@jupyter-widgets/controls",
            "_model_module_version": "1.5.0",
            "value": " 0/2 [35:20&lt;?, ?it/s]",
            "_view_count": null,
            "_view_module_version": "1.5.0",
            "description_tooltip": null,
            "_model_module": "@jupyter-widgets/controls",
            "layout": "IPY_MODEL_38758ba1e7b3474194c16b0e4ed27d9b"
          },
          "model_module_version": "1.5.0"
        },
        "69d2d95992704bc19f5d9f9a56d6e062": {
          "model_module": "@jupyter-widgets/controls",
          "model_name": "ProgressStyleModel",
          "state": {
            "_view_name": "StyleView",
            "_model_name": "ProgressStyleModel",
            "description_width": "initial",
            "_view_module": "@jupyter-widgets/base",
            "_model_module_version": "1.5.0",
            "_view_count": null,
            "_view_module_version": "1.2.0",
            "bar_color": null,
            "_model_module": "@jupyter-widgets/controls"
          },
          "model_module_version": "1.5.0"
        },
        "feade97a74214522acd7f581b7048880": {
          "model_module": "@jupyter-widgets/base",
          "model_name": "LayoutModel",
          "state": {
            "_view_name": "LayoutView",
            "grid_template_rows": null,
            "right": null,
            "justify_content": null,
            "_view_module": "@jupyter-widgets/base",
            "overflow": null,
            "_model_module_version": "1.2.0",
            "_view_count": null,
            "flex_flow": null,
            "width": null,
            "min_width": null,
            "border": null,
            "align_items": null,
            "bottom": null,
            "_model_module": "@jupyter-widgets/base",
            "top": null,
            "grid_column": null,
            "overflow_y": null,
            "overflow_x": null,
            "grid_auto_flow": null,
            "grid_area": null,
            "grid_template_columns": null,
            "flex": "2",
            "_model_name": "LayoutModel",
            "justify_items": null,
            "grid_row": null,
            "max_height": null,
            "align_content": null,
            "visibility": null,
            "align_self": null,
            "height": null,
            "min_height": null,
            "padding": null,
            "grid_auto_rows": null,
            "grid_gap": null,
            "max_width": null,
            "order": null,
            "_view_module_version": "1.2.0",
            "grid_template_areas": null,
            "object_position": null,
            "object_fit": null,
            "grid_auto_columns": null,
            "margin": null,
            "display": null,
            "left": null
          },
          "model_module_version": "1.2.0"
        },
        "8526cbc65d5d4629b00e3ad5bfe40e17": {
          "model_module": "@jupyter-widgets/controls",
          "model_name": "DescriptionStyleModel",
          "state": {
            "_view_name": "StyleView",
            "_model_name": "DescriptionStyleModel",
            "description_width": "",
            "_view_module": "@jupyter-widgets/base",
            "_model_module_version": "1.5.0",
            "_view_count": null,
            "_view_module_version": "1.2.0",
            "_model_module": "@jupyter-widgets/controls"
          },
          "model_module_version": "1.5.0"
        },
        "38758ba1e7b3474194c16b0e4ed27d9b": {
          "model_module": "@jupyter-widgets/base",
          "model_name": "LayoutModel",
          "state": {
            "_view_name": "LayoutView",
            "grid_template_rows": null,
            "right": null,
            "justify_content": null,
            "_view_module": "@jupyter-widgets/base",
            "overflow": null,
            "_model_module_version": "1.2.0",
            "_view_count": null,
            "flex_flow": null,
            "width": null,
            "min_width": null,
            "border": null,
            "align_items": null,
            "bottom": null,
            "_model_module": "@jupyter-widgets/base",
            "top": null,
            "grid_column": null,
            "overflow_y": null,
            "overflow_x": null,
            "grid_auto_flow": null,
            "grid_area": null,
            "grid_template_columns": null,
            "flex": null,
            "_model_name": "LayoutModel",
            "justify_items": null,
            "grid_row": null,
            "max_height": null,
            "align_content": null,
            "visibility": null,
            "align_self": null,
            "height": null,
            "min_height": null,
            "padding": null,
            "grid_auto_rows": null,
            "grid_gap": null,
            "max_width": null,
            "order": null,
            "_view_module_version": "1.2.0",
            "grid_template_areas": null,
            "object_position": null,
            "object_fit": null,
            "grid_auto_columns": null,
            "margin": null,
            "display": null,
            "left": null
          },
          "model_module_version": "1.2.0"
        },
        "4f9a1842345f4fdabfce9225cd547e01": {
          "model_module": "@jupyter-widgets/controls",
          "model_name": "HBoxModel",
          "state": {
            "_view_name": "HBoxView",
            "_dom_classes": [],
            "_model_name": "HBoxModel",
            "_view_module": "@jupyter-widgets/controls",
            "_model_module_version": "1.5.0",
            "_view_count": null,
            "_view_module_version": "1.5.0",
            "box_style": "",
            "layout": "IPY_MODEL_fb9d8b16866442948ad726cf82364fa8",
            "_model_module": "@jupyter-widgets/controls",
            "children": [
              "IPY_MODEL_72c8e8f65cf54b90a5197a17a70bcc20",
              "IPY_MODEL_9bb0f3c4e3a846b88f13b9a126c03aa8"
            ]
          },
          "model_module_version": "1.5.0"
        },
        "fb9d8b16866442948ad726cf82364fa8": {
          "model_module": "@jupyter-widgets/base",
          "model_name": "LayoutModel",
          "state": {
            "_view_name": "LayoutView",
            "grid_template_rows": null,
            "right": null,
            "justify_content": null,
            "_view_module": "@jupyter-widgets/base",
            "overflow": null,
            "_model_module_version": "1.2.0",
            "_view_count": null,
            "flex_flow": "row wrap",
            "width": "100%",
            "min_width": null,
            "border": null,
            "align_items": null,
            "bottom": null,
            "_model_module": "@jupyter-widgets/base",
            "top": null,
            "grid_column": null,
            "overflow_y": null,
            "overflow_x": null,
            "grid_auto_flow": null,
            "grid_area": null,
            "grid_template_columns": null,
            "flex": null,
            "_model_name": "LayoutModel",
            "justify_items": null,
            "grid_row": null,
            "max_height": null,
            "align_content": null,
            "visibility": null,
            "align_self": null,
            "height": null,
            "min_height": null,
            "padding": null,
            "grid_auto_rows": null,
            "grid_gap": null,
            "max_width": null,
            "order": null,
            "_view_module_version": "1.2.0",
            "grid_template_areas": null,
            "object_position": null,
            "object_fit": null,
            "grid_auto_columns": null,
            "margin": null,
            "display": "inline-flex",
            "left": null
          },
          "model_module_version": "1.2.0"
        },
        "72c8e8f65cf54b90a5197a17a70bcc20": {
          "model_module": "@jupyter-widgets/controls",
          "model_name": "FloatProgressModel",
          "state": {
            "_view_name": "ProgressView",
            "style": "IPY_MODEL_7f50524120104632939b446e12c24b4d",
            "_dom_classes": [],
            "description": "Epoch 1:  99%",
            "_model_name": "FloatProgressModel",
            "bar_style": "danger",
            "max": 3282,
            "_view_module": "@jupyter-widgets/controls",
            "_model_module_version": "1.5.0",
            "value": 3250,
            "_view_count": null,
            "_view_module_version": "1.5.0",
            "orientation": "horizontal",
            "min": 0,
            "description_tooltip": null,
            "_model_module": "@jupyter-widgets/controls",
            "layout": "IPY_MODEL_b1688540e6d841aebf1ae14016a03c10"
          },
          "model_module_version": "1.5.0"
        },
        "9bb0f3c4e3a846b88f13b9a126c03aa8": {
          "model_module": "@jupyter-widgets/controls",
          "model_name": "HTMLModel",
          "state": {
            "_view_name": "HTMLView",
            "style": "IPY_MODEL_8c87b8a82c7d45898a24e736a16a2c8f",
            "_dom_classes": [],
            "description": "",
            "_model_name": "HTMLModel",
            "placeholder": "​",
            "_view_module": "@jupyter-widgets/controls",
            "_model_module_version": "1.5.0",
            "value": " 3250/3282 [34:59&lt;00:20,  1.55it/s, loss=1.122, v_num=5, gpu_usage=37%, avg_val_bleu=28.4]",
            "_view_count": null,
            "_view_module_version": "1.5.0",
            "description_tooltip": null,
            "_model_module": "@jupyter-widgets/controls",
            "layout": "IPY_MODEL_09cba1d394ae4b46b94d6f4c10f80f0a"
          },
          "model_module_version": "1.5.0"
        },
        "7f50524120104632939b446e12c24b4d": {
          "model_module": "@jupyter-widgets/controls",
          "model_name": "ProgressStyleModel",
          "state": {
            "_view_name": "StyleView",
            "_model_name": "ProgressStyleModel",
            "description_width": "initial",
            "_view_module": "@jupyter-widgets/base",
            "_model_module_version": "1.5.0",
            "_view_count": null,
            "_view_module_version": "1.2.0",
            "bar_color": null,
            "_model_module": "@jupyter-widgets/controls"
          },
          "model_module_version": "1.5.0"
        },
        "b1688540e6d841aebf1ae14016a03c10": {
          "model_module": "@jupyter-widgets/base",
          "model_name": "LayoutModel",
          "state": {
            "_view_name": "LayoutView",
            "grid_template_rows": null,
            "right": null,
            "justify_content": null,
            "_view_module": "@jupyter-widgets/base",
            "overflow": null,
            "_model_module_version": "1.2.0",
            "_view_count": null,
            "flex_flow": null,
            "width": null,
            "min_width": null,
            "border": null,
            "align_items": null,
            "bottom": null,
            "_model_module": "@jupyter-widgets/base",
            "top": null,
            "grid_column": null,
            "overflow_y": null,
            "overflow_x": null,
            "grid_auto_flow": null,
            "grid_area": null,
            "grid_template_columns": null,
            "flex": "2",
            "_model_name": "LayoutModel",
            "justify_items": null,
            "grid_row": null,
            "max_height": null,
            "align_content": null,
            "visibility": null,
            "align_self": null,
            "height": null,
            "min_height": null,
            "padding": null,
            "grid_auto_rows": null,
            "grid_gap": null,
            "max_width": null,
            "order": null,
            "_view_module_version": "1.2.0",
            "grid_template_areas": null,
            "object_position": null,
            "object_fit": null,
            "grid_auto_columns": null,
            "margin": null,
            "display": null,
            "left": null
          },
          "model_module_version": "1.2.0"
        },
        "8c87b8a82c7d45898a24e736a16a2c8f": {
          "model_module": "@jupyter-widgets/controls",
          "model_name": "DescriptionStyleModel",
          "state": {
            "_view_name": "StyleView",
            "_model_name": "DescriptionStyleModel",
            "description_width": "",
            "_view_module": "@jupyter-widgets/base",
            "_model_module_version": "1.5.0",
            "_view_count": null,
            "_view_module_version": "1.2.0",
            "_model_module": "@jupyter-widgets/controls"
          },
          "model_module_version": "1.5.0"
        },
        "09cba1d394ae4b46b94d6f4c10f80f0a": {
          "model_module": "@jupyter-widgets/base",
          "model_name": "LayoutModel",
          "state": {
            "_view_name": "LayoutView",
            "grid_template_rows": null,
            "right": null,
            "justify_content": null,
            "_view_module": "@jupyter-widgets/base",
            "overflow": null,
            "_model_module_version": "1.2.0",
            "_view_count": null,
            "flex_flow": null,
            "width": null,
            "min_width": null,
            "border": null,
            "align_items": null,
            "bottom": null,
            "_model_module": "@jupyter-widgets/base",
            "top": null,
            "grid_column": null,
            "overflow_y": null,
            "overflow_x": null,
            "grid_auto_flow": null,
            "grid_area": null,
            "grid_template_columns": null,
            "flex": null,
            "_model_name": "LayoutModel",
            "justify_items": null,
            "grid_row": null,
            "max_height": null,
            "align_content": null,
            "visibility": null,
            "align_self": null,
            "height": null,
            "min_height": null,
            "padding": null,
            "grid_auto_rows": null,
            "grid_gap": null,
            "max_width": null,
            "order": null,
            "_view_module_version": "1.2.0",
            "grid_template_areas": null,
            "object_position": null,
            "object_fit": null,
            "grid_auto_columns": null,
            "margin": null,
            "display": null,
            "left": null
          },
          "model_module_version": "1.2.0"
        },
        "ed53e431000e4f8dbbae9207160b1685": {
          "model_module": "@jupyter-widgets/controls",
          "model_name": "HBoxModel",
          "state": {
            "_view_name": "HBoxView",
            "_dom_classes": [],
            "_model_name": "HBoxModel",
            "_view_module": "@jupyter-widgets/controls",
            "_model_module_version": "1.5.0",
            "_view_count": null,
            "_view_module_version": "1.5.0",
            "box_style": "",
            "layout": "IPY_MODEL_75eae8d37aeb45c48f5d19d4ecf232ab",
            "_model_module": "@jupyter-widgets/controls",
            "children": [
              "IPY_MODEL_cec8d06969a946de99c272e0ebf335cd",
              "IPY_MODEL_0a7cbb6f129141ada88b9fbc7e03f53f"
            ]
          },
          "model_module_version": "1.5.0"
        },
        "75eae8d37aeb45c48f5d19d4ecf232ab": {
          "model_module": "@jupyter-widgets/base",
          "model_name": "LayoutModel",
          "state": {
            "_view_name": "LayoutView",
            "grid_template_rows": null,
            "right": null,
            "justify_content": null,
            "_view_module": "@jupyter-widgets/base",
            "overflow": null,
            "_model_module_version": "1.2.0",
            "_view_count": null,
            "flex_flow": "row wrap",
            "width": "100%",
            "min_width": null,
            "border": null,
            "align_items": null,
            "bottom": null,
            "_model_module": "@jupyter-widgets/base",
            "top": null,
            "grid_column": null,
            "overflow_y": null,
            "overflow_x": null,
            "grid_auto_flow": null,
            "grid_area": null,
            "grid_template_columns": null,
            "flex": null,
            "_model_name": "LayoutModel",
            "justify_items": null,
            "grid_row": null,
            "max_height": null,
            "align_content": null,
            "visibility": null,
            "align_self": null,
            "height": null,
            "min_height": null,
            "padding": null,
            "grid_auto_rows": null,
            "grid_gap": null,
            "max_width": null,
            "order": null,
            "_view_module_version": "1.2.0",
            "grid_template_areas": null,
            "object_position": null,
            "object_fit": null,
            "grid_auto_columns": null,
            "margin": null,
            "display": "inline-flex",
            "left": null
          },
          "model_module_version": "1.2.0"
        },
        "cec8d06969a946de99c272e0ebf335cd": {
          "model_module": "@jupyter-widgets/controls",
          "model_name": "FloatProgressModel",
          "state": {
            "_view_name": "ProgressView",
            "style": "IPY_MODEL_c491ef92c6da40cc808da9d9630ef535",
            "_dom_classes": [],
            "description": "Validating:  96%",
            "_model_name": "FloatProgressModel",
            "bar_style": "danger",
            "max": 1,
            "_view_module": "@jupyter-widgets/controls",
            "_model_module_version": "1.5.0",
            "value": 1,
            "_view_count": null,
            "_view_module_version": "1.5.0",
            "orientation": "horizontal",
            "min": 0,
            "description_tooltip": null,
            "_model_module": "@jupyter-widgets/controls",
            "layout": "IPY_MODEL_0a03b3e1f2bc4fb48db4e3466a88963c"
          },
          "model_module_version": "1.5.0"
        },
        "0a7cbb6f129141ada88b9fbc7e03f53f": {
          "model_module": "@jupyter-widgets/controls",
          "model_name": "HTMLModel",
          "state": {
            "_view_name": "HTMLView",
            "style": "IPY_MODEL_bf3b7d6dfe1e45ccafdabaa65dfeae11",
            "_dom_classes": [],
            "description": "",
            "_model_name": "HTMLModel",
            "placeholder": "​",
            "_view_module": "@jupyter-widgets/controls",
            "_model_module_version": "1.5.0",
            "value": " 150/157 [07:28&lt;00:19,  2.84s/it]",
            "_view_count": null,
            "_view_module_version": "1.5.0",
            "description_tooltip": null,
            "_model_module": "@jupyter-widgets/controls",
            "layout": "IPY_MODEL_0e524030a3374e7d9bda82aa8da38373"
          },
          "model_module_version": "1.5.0"
        },
        "c491ef92c6da40cc808da9d9630ef535": {
          "model_module": "@jupyter-widgets/controls",
          "model_name": "ProgressStyleModel",
          "state": {
            "_view_name": "StyleView",
            "_model_name": "ProgressStyleModel",
            "description_width": "initial",
            "_view_module": "@jupyter-widgets/base",
            "_model_module_version": "1.5.0",
            "_view_count": null,
            "_view_module_version": "1.2.0",
            "bar_color": null,
            "_model_module": "@jupyter-widgets/controls"
          },
          "model_module_version": "1.5.0"
        },
        "0a03b3e1f2bc4fb48db4e3466a88963c": {
          "model_module": "@jupyter-widgets/base",
          "model_name": "LayoutModel",
          "state": {
            "_view_name": "LayoutView",
            "grid_template_rows": null,
            "right": null,
            "justify_content": null,
            "_view_module": "@jupyter-widgets/base",
            "overflow": null,
            "_model_module_version": "1.2.0",
            "_view_count": null,
            "flex_flow": null,
            "width": null,
            "min_width": null,
            "border": null,
            "align_items": null,
            "bottom": null,
            "_model_module": "@jupyter-widgets/base",
            "top": null,
            "grid_column": null,
            "overflow_y": null,
            "overflow_x": null,
            "grid_auto_flow": null,
            "grid_area": null,
            "grid_template_columns": null,
            "flex": "2",
            "_model_name": "LayoutModel",
            "justify_items": null,
            "grid_row": null,
            "max_height": null,
            "align_content": null,
            "visibility": null,
            "align_self": null,
            "height": null,
            "min_height": null,
            "padding": null,
            "grid_auto_rows": null,
            "grid_gap": null,
            "max_width": null,
            "order": null,
            "_view_module_version": "1.2.0",
            "grid_template_areas": null,
            "object_position": null,
            "object_fit": null,
            "grid_auto_columns": null,
            "margin": null,
            "display": null,
            "left": null
          },
          "model_module_version": "1.2.0"
        },
        "bf3b7d6dfe1e45ccafdabaa65dfeae11": {
          "model_module": "@jupyter-widgets/controls",
          "model_name": "DescriptionStyleModel",
          "state": {
            "_view_name": "StyleView",
            "_model_name": "DescriptionStyleModel",
            "description_width": "",
            "_view_module": "@jupyter-widgets/base",
            "_model_module_version": "1.5.0",
            "_view_count": null,
            "_view_module_version": "1.2.0",
            "_model_module": "@jupyter-widgets/controls"
          },
          "model_module_version": "1.5.0"
        },
        "0e524030a3374e7d9bda82aa8da38373": {
          "model_module": "@jupyter-widgets/base",
          "model_name": "LayoutModel",
          "state": {
            "_view_name": "LayoutView",
            "grid_template_rows": null,
            "right": null,
            "justify_content": null,
            "_view_module": "@jupyter-widgets/base",
            "overflow": null,
            "_model_module_version": "1.2.0",
            "_view_count": null,
            "flex_flow": null,
            "width": null,
            "min_width": null,
            "border": null,
            "align_items": null,
            "bottom": null,
            "_model_module": "@jupyter-widgets/base",
            "top": null,
            "grid_column": null,
            "overflow_y": null,
            "overflow_x": null,
            "grid_auto_flow": null,
            "grid_area": null,
            "grid_template_columns": null,
            "flex": null,
            "_model_name": "LayoutModel",
            "justify_items": null,
            "grid_row": null,
            "max_height": null,
            "align_content": null,
            "visibility": null,
            "align_self": null,
            "height": null,
            "min_height": null,
            "padding": null,
            "grid_auto_rows": null,
            "grid_gap": null,
            "max_width": null,
            "order": null,
            "_view_module_version": "1.2.0",
            "grid_template_areas": null,
            "object_position": null,
            "object_fit": null,
            "grid_auto_columns": null,
            "margin": null,
            "display": null,
            "left": null
          },
          "model_module_version": "1.2.0"
        },
        "a45aa06172684d908c9ddd3da617aaf9": {
          "model_module": "@jupyter-widgets/controls",
          "model_name": "HBoxModel",
          "state": {
            "_view_name": "HBoxView",
            "_dom_classes": [],
            "_model_name": "HBoxModel",
            "_view_module": "@jupyter-widgets/controls",
            "_model_module_version": "1.5.0",
            "_view_count": null,
            "_view_module_version": "1.5.0",
            "box_style": "",
            "layout": "IPY_MODEL_e1740a82d2124240add9260f057d2fda",
            "_model_module": "@jupyter-widgets/controls",
            "children": [
              "IPY_MODEL_81a88d45878449ce9ab0b4c9bfccc82a",
              "IPY_MODEL_4ac4c2eae0b54b92a73e138084324c9c"
            ]
          },
          "model_module_version": "1.5.0"
        },
        "e1740a82d2124240add9260f057d2fda": {
          "model_module": "@jupyter-widgets/base",
          "model_name": "LayoutModel",
          "state": {
            "_view_name": "LayoutView",
            "grid_template_rows": null,
            "right": null,
            "justify_content": null,
            "_view_module": "@jupyter-widgets/base",
            "overflow": null,
            "_model_module_version": "1.2.0",
            "_view_count": null,
            "flex_flow": "row wrap",
            "width": "100%",
            "min_width": null,
            "border": null,
            "align_items": null,
            "bottom": null,
            "_model_module": "@jupyter-widgets/base",
            "top": null,
            "grid_column": null,
            "overflow_y": null,
            "overflow_x": null,
            "grid_auto_flow": null,
            "grid_area": null,
            "grid_template_columns": null,
            "flex": null,
            "_model_name": "LayoutModel",
            "justify_items": null,
            "grid_row": null,
            "max_height": null,
            "align_content": null,
            "visibility": null,
            "align_self": null,
            "height": null,
            "min_height": null,
            "padding": null,
            "grid_auto_rows": null,
            "grid_gap": null,
            "max_width": null,
            "order": null,
            "_view_module_version": "1.2.0",
            "grid_template_areas": null,
            "object_position": null,
            "object_fit": null,
            "grid_auto_columns": null,
            "margin": null,
            "display": "inline-flex",
            "left": null
          },
          "model_module_version": "1.2.0"
        },
        "81a88d45878449ce9ab0b4c9bfccc82a": {
          "model_module": "@jupyter-widgets/controls",
          "model_name": "FloatProgressModel",
          "state": {
            "_view_name": "ProgressView",
            "style": "IPY_MODEL_1fbcc16e506e40eaa6c737fa2a536df6",
            "_dom_classes": [],
            "description": "Validating:  96%",
            "_model_name": "FloatProgressModel",
            "bar_style": "danger",
            "max": 1,
            "_view_module": "@jupyter-widgets/controls",
            "_model_module_version": "1.5.0",
            "value": 1,
            "_view_count": null,
            "_view_module_version": "1.5.0",
            "orientation": "horizontal",
            "min": 0,
            "description_tooltip": null,
            "_model_module": "@jupyter-widgets/controls",
            "layout": "IPY_MODEL_3eb546138623439d99d5191d5ee13f7a"
          },
          "model_module_version": "1.5.0"
        },
        "4ac4c2eae0b54b92a73e138084324c9c": {
          "model_module": "@jupyter-widgets/controls",
          "model_name": "HTMLModel",
          "state": {
            "_view_name": "HTMLView",
            "style": "IPY_MODEL_c2439329befc4076a25364244e6fafe2",
            "_dom_classes": [],
            "description": "",
            "_model_name": "HTMLModel",
            "placeholder": "​",
            "_view_module": "@jupyter-widgets/controls",
            "_model_module_version": "1.5.0",
            "value": " 150/157 [07:05&lt;00:18,  2.69s/it]",
            "_view_count": null,
            "_view_module_version": "1.5.0",
            "description_tooltip": null,
            "_model_module": "@jupyter-widgets/controls",
            "layout": "IPY_MODEL_f7ce493ae0844bedaf769fe59156a44f"
          },
          "model_module_version": "1.5.0"
        },
        "1fbcc16e506e40eaa6c737fa2a536df6": {
          "model_module": "@jupyter-widgets/controls",
          "model_name": "ProgressStyleModel",
          "state": {
            "_view_name": "StyleView",
            "_model_name": "ProgressStyleModel",
            "description_width": "initial",
            "_view_module": "@jupyter-widgets/base",
            "_model_module_version": "1.5.0",
            "_view_count": null,
            "_view_module_version": "1.2.0",
            "bar_color": null,
            "_model_module": "@jupyter-widgets/controls"
          },
          "model_module_version": "1.5.0"
        },
        "3eb546138623439d99d5191d5ee13f7a": {
          "model_module": "@jupyter-widgets/base",
          "model_name": "LayoutModel",
          "state": {
            "_view_name": "LayoutView",
            "grid_template_rows": null,
            "right": null,
            "justify_content": null,
            "_view_module": "@jupyter-widgets/base",
            "overflow": null,
            "_model_module_version": "1.2.0",
            "_view_count": null,
            "flex_flow": null,
            "width": null,
            "min_width": null,
            "border": null,
            "align_items": null,
            "bottom": null,
            "_model_module": "@jupyter-widgets/base",
            "top": null,
            "grid_column": null,
            "overflow_y": null,
            "overflow_x": null,
            "grid_auto_flow": null,
            "grid_area": null,
            "grid_template_columns": null,
            "flex": "2",
            "_model_name": "LayoutModel",
            "justify_items": null,
            "grid_row": null,
            "max_height": null,
            "align_content": null,
            "visibility": null,
            "align_self": null,
            "height": null,
            "min_height": null,
            "padding": null,
            "grid_auto_rows": null,
            "grid_gap": null,
            "max_width": null,
            "order": null,
            "_view_module_version": "1.2.0",
            "grid_template_areas": null,
            "object_position": null,
            "object_fit": null,
            "grid_auto_columns": null,
            "margin": null,
            "display": null,
            "left": null
          },
          "model_module_version": "1.2.0"
        },
        "c2439329befc4076a25364244e6fafe2": {
          "model_module": "@jupyter-widgets/controls",
          "model_name": "DescriptionStyleModel",
          "state": {
            "_view_name": "StyleView",
            "_model_name": "DescriptionStyleModel",
            "description_width": "",
            "_view_module": "@jupyter-widgets/base",
            "_model_module_version": "1.5.0",
            "_view_count": null,
            "_view_module_version": "1.2.0",
            "_model_module": "@jupyter-widgets/controls"
          },
          "model_module_version": "1.5.0"
        },
        "f7ce493ae0844bedaf769fe59156a44f": {
          "model_module": "@jupyter-widgets/base",
          "model_name": "LayoutModel",
          "state": {
            "_view_name": "LayoutView",
            "grid_template_rows": null,
            "right": null,
            "justify_content": null,
            "_view_module": "@jupyter-widgets/base",
            "overflow": null,
            "_model_module_version": "1.2.0",
            "_view_count": null,
            "flex_flow": null,
            "width": null,
            "min_width": null,
            "border": null,
            "align_items": null,
            "bottom": null,
            "_model_module": "@jupyter-widgets/base",
            "top": null,
            "grid_column": null,
            "overflow_y": null,
            "overflow_x": null,
            "grid_auto_flow": null,
            "grid_area": null,
            "grid_template_columns": null,
            "flex": null,
            "_model_name": "LayoutModel",
            "justify_items": null,
            "grid_row": null,
            "max_height": null,
            "align_content": null,
            "visibility": null,
            "align_self": null,
            "height": null,
            "min_height": null,
            "padding": null,
            "grid_auto_rows": null,
            "grid_gap": null,
            "max_width": null,
            "order": null,
            "_view_module_version": "1.2.0",
            "grid_template_areas": null,
            "object_position": null,
            "object_fit": null,
            "grid_auto_columns": null,
            "margin": null,
            "display": null,
            "left": null
          },
          "model_module_version": "1.2.0"
        },
        "32b4edba9b6b4e06855b8f11ef74b555": {
          "model_module": "@jupyter-widgets/controls",
          "model_name": "HBoxModel",
          "state": {
            "_view_name": "HBoxView",
            "_dom_classes": [],
            "_model_name": "HBoxModel",
            "_view_module": "@jupyter-widgets/controls",
            "_model_module_version": "1.5.0",
            "_view_count": null,
            "_view_module_version": "1.5.0",
            "box_style": "",
            "layout": "IPY_MODEL_ce1c76ab72d341d29fd3c6fe700d88c2",
            "_model_module": "@jupyter-widgets/controls",
            "children": [
              "IPY_MODEL_1f8578a3aa2e4233a98b8fb3a7d96a89",
              "IPY_MODEL_260be805dad64aeba70e493adbb6122b"
            ]
          },
          "model_module_version": "1.5.0"
        },
        "ce1c76ab72d341d29fd3c6fe700d88c2": {
          "model_module": "@jupyter-widgets/base",
          "model_name": "LayoutModel",
          "state": {
            "_view_name": "LayoutView",
            "grid_template_rows": null,
            "right": null,
            "justify_content": null,
            "_view_module": "@jupyter-widgets/base",
            "overflow": null,
            "_model_module_version": "1.2.0",
            "_view_count": null,
            "flex_flow": "row wrap",
            "width": "100%",
            "min_width": null,
            "border": null,
            "align_items": null,
            "bottom": null,
            "_model_module": "@jupyter-widgets/base",
            "top": null,
            "grid_column": null,
            "overflow_y": null,
            "overflow_x": null,
            "grid_auto_flow": null,
            "grid_area": null,
            "grid_template_columns": null,
            "flex": null,
            "_model_name": "LayoutModel",
            "justify_items": null,
            "grid_row": null,
            "max_height": null,
            "align_content": null,
            "visibility": null,
            "align_self": null,
            "height": null,
            "min_height": null,
            "padding": null,
            "grid_auto_rows": null,
            "grid_gap": null,
            "max_width": null,
            "order": null,
            "_view_module_version": "1.2.0",
            "grid_template_areas": null,
            "object_position": null,
            "object_fit": null,
            "grid_auto_columns": null,
            "margin": null,
            "display": "inline-flex",
            "left": null
          },
          "model_module_version": "1.2.0"
        },
        "1f8578a3aa2e4233a98b8fb3a7d96a89": {
          "model_module": "@jupyter-widgets/controls",
          "model_name": "FloatProgressModel",
          "state": {
            "_view_name": "ProgressView",
            "style": "IPY_MODEL_4cd825d2b68c4a54bf2035e795aa0820",
            "_dom_classes": [],
            "description": "Testing:  96%",
            "_model_name": "FloatProgressModel",
            "bar_style": "danger",
            "max": 1,
            "_view_module": "@jupyter-widgets/controls",
            "_model_module_version": "1.5.0",
            "value": 1,
            "_view_count": null,
            "_view_module_version": "1.5.0",
            "orientation": "horizontal",
            "min": 0,
            "description_tooltip": null,
            "_model_module": "@jupyter-widgets/controls",
            "layout": "IPY_MODEL_8bfccf2ab1fe49d1a953982ed5fc9860"
          },
          "model_module_version": "1.5.0"
        },
        "260be805dad64aeba70e493adbb6122b": {
          "model_module": "@jupyter-widgets/controls",
          "model_name": "HTMLModel",
          "state": {
            "_view_name": "HTMLView",
            "style": "IPY_MODEL_4bdd7df90ddb48bf9d6f968272cf29e0",
            "_dom_classes": [],
            "description": "",
            "_model_name": "HTMLModel",
            "placeholder": "​",
            "_view_module": "@jupyter-widgets/controls",
            "_model_module_version": "1.5.0",
            "value": " 600/625 [29:05&lt;01:12,  2.91s/it]",
            "_view_count": null,
            "_view_module_version": "1.5.0",
            "description_tooltip": null,
            "_model_module": "@jupyter-widgets/controls",
            "layout": "IPY_MODEL_b20e57ecd6954da9ae62a5431ab586da"
          },
          "model_module_version": "1.5.0"
        },
        "4cd825d2b68c4a54bf2035e795aa0820": {
          "model_module": "@jupyter-widgets/controls",
          "model_name": "ProgressStyleModel",
          "state": {
            "_view_name": "StyleView",
            "_model_name": "ProgressStyleModel",
            "description_width": "initial",
            "_view_module": "@jupyter-widgets/base",
            "_model_module_version": "1.5.0",
            "_view_count": null,
            "_view_module_version": "1.2.0",
            "bar_color": null,
            "_model_module": "@jupyter-widgets/controls"
          },
          "model_module_version": "1.5.0"
        },
        "8bfccf2ab1fe49d1a953982ed5fc9860": {
          "model_module": "@jupyter-widgets/base",
          "model_name": "LayoutModel",
          "state": {
            "_view_name": "LayoutView",
            "grid_template_rows": null,
            "right": null,
            "justify_content": null,
            "_view_module": "@jupyter-widgets/base",
            "overflow": null,
            "_model_module_version": "1.2.0",
            "_view_count": null,
            "flex_flow": null,
            "width": null,
            "min_width": null,
            "border": null,
            "align_items": null,
            "bottom": null,
            "_model_module": "@jupyter-widgets/base",
            "top": null,
            "grid_column": null,
            "overflow_y": null,
            "overflow_x": null,
            "grid_auto_flow": null,
            "grid_area": null,
            "grid_template_columns": null,
            "flex": "2",
            "_model_name": "LayoutModel",
            "justify_items": null,
            "grid_row": null,
            "max_height": null,
            "align_content": null,
            "visibility": null,
            "align_self": null,
            "height": null,
            "min_height": null,
            "padding": null,
            "grid_auto_rows": null,
            "grid_gap": null,
            "max_width": null,
            "order": null,
            "_view_module_version": "1.2.0",
            "grid_template_areas": null,
            "object_position": null,
            "object_fit": null,
            "grid_auto_columns": null,
            "margin": null,
            "display": null,
            "left": null
          },
          "model_module_version": "1.2.0"
        },
        "4bdd7df90ddb48bf9d6f968272cf29e0": {
          "model_module": "@jupyter-widgets/controls",
          "model_name": "DescriptionStyleModel",
          "state": {
            "_view_name": "StyleView",
            "_model_name": "DescriptionStyleModel",
            "description_width": "",
            "_view_module": "@jupyter-widgets/base",
            "_model_module_version": "1.5.0",
            "_view_count": null,
            "_view_module_version": "1.2.0",
            "_model_module": "@jupyter-widgets/controls"
          },
          "model_module_version": "1.5.0"
        },
        "b20e57ecd6954da9ae62a5431ab586da": {
          "model_module": "@jupyter-widgets/base",
          "model_name": "LayoutModel",
          "state": {
            "_view_name": "LayoutView",
            "grid_template_rows": null,
            "right": null,
            "justify_content": null,
            "_view_module": "@jupyter-widgets/base",
            "overflow": null,
            "_model_module_version": "1.2.0",
            "_view_count": null,
            "flex_flow": null,
            "width": null,
            "min_width": null,
            "border": null,
            "align_items": null,
            "bottom": null,
            "_model_module": "@jupyter-widgets/base",
            "top": null,
            "grid_column": null,
            "overflow_y": null,
            "overflow_x": null,
            "grid_auto_flow": null,
            "grid_area": null,
            "grid_template_columns": null,
            "flex": null,
            "_model_name": "LayoutModel",
            "justify_items": null,
            "grid_row": null,
            "max_height": null,
            "align_content": null,
            "visibility": null,
            "align_self": null,
            "height": null,
            "min_height": null,
            "padding": null,
            "grid_auto_rows": null,
            "grid_gap": null,
            "max_width": null,
            "order": null,
            "_view_module_version": "1.2.0",
            "grid_template_areas": null,
            "object_position": null,
            "object_fit": null,
            "grid_auto_columns": null,
            "margin": null,
            "display": null,
            "left": null
          },
          "model_module_version": "1.2.0"
        }
      }
    }
  },
  "cells": [
    {
      "cell_type": "markdown",
      "metadata": {
        "id": "Od7iUgHy5SSi"
      },
      "source": [
        "Treinamento de um modelo T5 para traduzir de inglês para português usando dataset do Paracrawl."
      ]
    },
    {
      "cell_type": "markdown",
      "source": [
        "# Inicialização\n",
        "\n",
        "Definindo os parâmetros, instalando e importando as bibliotecas.\n"
      ],
      "metadata": {
        "id": "1mGYT9WnsP7N"
      }
    },
    {
      "cell_type": "code",
      "metadata": {
        "id": "FgW-boJLU0wU"
      },
      "source": [
        "# Configurações gerais\n",
        "model_name = \"t5-small\"\n",
        "batch_size = 32\n",
        "accumulate_grad_batches = 2\n",
        "source_max_length = 128\n",
        "target_max_length = 128\n",
        "learning_rate = 5e-3"
      ],
      "execution_count": null,
      "outputs": []
    },
    {
      "cell_type": "code",
      "metadata": {
        "id": "0mXaMmG4cb-F",
        "colab": {
          "base_uri": "https://localhost:8080/",
          "height": 235
        },
        "outputId": "1dcd765e-6010-4a60-d6df-5bb86724add0"
      },
      "source": [
        "! pip install sacrebleu\n",
        "! pip install pytorch-lightning\n",
        "! pip install transformers"
      ],
      "execution_count": null,
      "outputs": [
        {
          "output_type": "stream",
          "text": [
            "\u001b[K     |████████████████████████████████| 71kB 3.2MB/s \n",
            "\u001b[K     |████████████████████████████████| 542kB 4.5MB/s \n",
            "\u001b[K     |████████████████████████████████| 92kB 6.9MB/s \n",
            "\u001b[K     |████████████████████████████████| 276kB 8.0MB/s \n",
            "\u001b[K     |████████████████████████████████| 829kB 14.2MB/s \n",
            "\u001b[?25h  Building wheel for PyYAML (setup.py) ... \u001b[?25l\u001b[?25hdone\n",
            "  Building wheel for future (setup.py) ... \u001b[?25l\u001b[?25hdone\n",
            "\u001b[K     |████████████████████████████████| 1.3MB 4.8MB/s \n",
            "\u001b[K     |████████████████████████████████| 1.1MB 29.8MB/s \n",
            "\u001b[K     |████████████████████████████████| 2.9MB 43.3MB/s \n",
            "\u001b[K     |████████████████████████████████| 890kB 49.3MB/s \n",
            "\u001b[?25h  Building wheel for sacremoses (setup.py) ... \u001b[?25l\u001b[?25hdone\n"
          ],
          "name": "stdout"
        }
      ]
    },
    {
      "cell_type": "code",
      "metadata": {
        "id": "ob7qL6kUVjbu"
      },
      "source": [
        "# Importar todos os pacotes de uma só vez para evitar duplicados ao longo do notebook.\n",
        "import gzip\n",
        "import nvidia_smi\n",
        "import os\n",
        "import pytorch_lightning as pl\n",
        "import random\n",
        "import sacrebleu\n",
        "import torch\n",
        "import torch.nn.functional as F\n",
        "import torch.nn as nn\n",
        "\n",
        "from google.colab import drive\n",
        "\n",
        "from pytorch_lightning.callbacks import ModelCheckpoint\n",
        "\n",
        "from transformers import T5ForConditionalGeneration\n",
        "from transformers import T5Tokenizer\n",
        "from torch.utils.data import DataLoader\n",
        "from torch.utils.data import Dataset\n",
        "\n",
        "from typing import Dict\n",
        "from typing import List\n",
        "from typing import Tuple"
      ],
      "execution_count": null,
      "outputs": []
    },
    {
      "cell_type": "code",
      "metadata": {
        "id": "bJlZDb1VY29r"
      },
      "source": [
        "seed = 123\n",
        "random.seed(seed)\n",
        "# np.random.seed(seed)\n",
        "torch.random.manual_seed(seed)\n",
        "torch.cuda.manual_seed(seed)"
      ],
      "execution_count": null,
      "outputs": []
    },
    {
      "cell_type": "code",
      "metadata": {
        "id": "UGNTZKHrTM6l",
        "colab": {
          "base_uri": "https://localhost:8080/",
          "height": 54
        },
        "outputId": "fc60664b-3192-4caf-d2e4-87a8d4e443ec"
      },
      "source": [
        "print(f\"Pytorch Lightning Version: {pl.__version__}\")\n",
        "nvidia_smi.nvmlInit()\n",
        "handle = nvidia_smi.nvmlDeviceGetHandleByIndex(0)\n",
        "print(f\"Device name: {nvidia_smi.nvmlDeviceGetName(handle)}\")\n",
        "\n",
        "def gpu_usage():\n",
        "    global handle\n",
        "    return str(nvidia_smi.nvmlDeviceGetUtilizationRates(handle).gpu) + '%'"
      ],
      "execution_count": null,
      "outputs": [
        {
          "output_type": "stream",
          "text": [
            "Pytorch Lightning Version: 1.0.3\n",
            "Device name: b'Tesla T4'\n"
          ],
          "name": "stdout"
        }
      ]
    },
    {
      "cell_type": "markdown",
      "metadata": {
        "id": "ETfkvMGl4JA1"
      },
      "source": [
        "Iremos salvar os checkpoints (pesos do modelo) no google drive, para que possamos continuar o treino de onde paramos."
      ]
    },
    {
      "cell_type": "code",
      "metadata": {
        "id": "J-Co8U6O4Gl3",
        "colab": {
          "base_uri": "https://localhost:8080/",
          "height": 35
        },
        "outputId": "de3df6a7-f862-4e26-a4e9-b46750ceba8d"
      },
      "source": [
        "drive.mount('/content/drive')"
      ],
      "execution_count": null,
      "outputs": [
        {
          "output_type": "stream",
          "text": [
            "Drive already mounted at /content/drive; to attempt to forcibly remount, call drive.mount(\"/content/drive\", force_remount=True).\n"
          ],
          "name": "stdout"
        }
      ]
    },
    {
      "cell_type": "markdown",
      "metadata": {
        "id": "CXFdJz2KVeQw"
      },
      "source": [
        "# Preparando Dados"
      ]
    },
    {
      "cell_type": "markdown",
      "metadata": {
        "id": "gHMi_Kq65fPM"
      },
      "source": [
        "Primeiro, fazemos download do dataset disponível nos arquivos da disciplina:"
      ]
    },
    {
      "cell_type": "code",
      "metadata": {
        "id": "2wbnfzst5O3k",
        "colab": {
          "base_uri": "https://localhost:8080/",
          "height": 90
        },
        "outputId": "d7df8c5b-0982-4b52-966c-5af6b7d7b605"
      },
      "source": [
        "! wget -nc https://storage.googleapis.com/neuralresearcher_data/unicamp/ia376e_2020s1/paracrawl_enpt_train.tsv.gz\n",
        "! wget -nc https://storage.googleapis.com/neuralresearcher_data/unicamp/ia376e_2020s1/paracrawl_enpt_test.tsv.gz"
      ],
      "execution_count": null,
      "outputs": [
        {
          "output_type": "stream",
          "text": [
            "File ‘paracrawl_enpt_train.tsv.gz’ already there; not retrieving.\n",
            "\n",
            "File ‘paracrawl_enpt_test.tsv.gz’ already there; not retrieving.\n",
            "\n"
          ],
          "name": "stdout"
        }
      ]
    },
    {
      "cell_type": "markdown",
      "metadata": {
        "id": "0Giyi5Rv_NIm"
      },
      "source": [
        "## Dataset\n",
        "\n",
        "Criaremos uma divisão de treino (100k pares) e val (5k pares) artificialmente."
      ]
    },
    {
      "cell_type": "code",
      "metadata": {
        "id": "0HIN_xLI_TuT",
        "colab": {
          "base_uri": "https://localhost:8080/",
          "height": 528
        },
        "outputId": "46495f0e-3194-40ac-86cf-a59fe9750b1a"
      },
      "source": [
        "def load_text_pairs(path):\n",
        "    text_pairs = []\n",
        "    for line in gzip.open(path, mode='rt'):\n",
        "        text_pairs.append(line.strip().split('\\t'))\n",
        "    return text_pairs\n",
        "\n",
        "x_train = load_text_pairs('paracrawl_enpt_train.tsv.gz')\n",
        "x_test = load_text_pairs('paracrawl_enpt_test.tsv.gz')\n",
        "\n",
        "# Embaralhamos o treino para depois fazermos a divisão treino/val.\n",
        "random.shuffle(x_train)\n",
        "\n",
        "# Truncamos o dataset para 100k pares de treino e 5k pares de validação.\n",
        "x_val = x_train[100000:105000]\n",
        "x_train = x_train[:100000]\n",
        "\n",
        "for set_name, x in [('treino', x_train), ('validação', x_val), ('test', x_test)]:\n",
        "    print(f'\\n{len(x)} amostras de {set_name}')\n",
        "    print(f'3 primeiras amostras {set_name}:')\n",
        "    for i, (source, target) in enumerate(x[:3]):\n",
        "        print(f'{i}: source: {source}\\n   target: {target}')"
      ],
      "execution_count": null,
      "outputs": [
        {
          "output_type": "stream",
          "text": [
            "\n",
            "100000 amostras de treino\n",
            "3 primeiras amostras treino:\n",
            "0: source: More Croatian words and phrases\n",
            "   target: Mais palavras e frases em croata\n",
            "1: source: Jerseys and pullovers, containing at least 50Â % by weight of wool and weighing 600Â g or more per article 6110 11 10 (PCE)\n",
            "   target: Camisolas e pulôveres, com pelo menos 50 %, em peso, de lã e pesando 600g ou mais por unidade 6110 11 10 (PCE)\n",
            "2: source: Atex Colombia SAS makes available its lead product, 100% natural liquid latex, excellent quality and price. ... Welding manizales caldas Colombia a DuckDuckGo\n",
            "   target: Atex Colômbia SAS torna principal produto está disponível, látex líquido 100% natural, excelente qualidade e preço. ...\n",
            "\n",
            "5000 amostras de validação\n",
            "3 primeiras amostras validação:\n",
            "0: source: «You have hidden these things from the wise and the learned you have revealed them to the childlike»\n",
            "   target: «Escondeste estas coisas aos sábios e entendidos e as revelaste aos pequenos»\n",
            "1: source: Repair of computers, application programming, network installations, web design, graphic design, and also the most. Computer consulting in Santa Lucía\n",
            "   target: Reparação de computadores, programação de aplicações, instalações de rede, web design, design gráfico, e também a.\n",
            "2: source: He was born in Fafe (Braga) and he graduated in Law in Coimbra University.\n",
            "   target: É natural de Fafe (Braga) e Licenciado em Direito pela Universidade de Coimbra.\n",
            "\n",
            "20000 amostras de test\n",
            "3 primeiras amostras test:\n",
            "0: source: In this way, the civil life of a nation matures, making it possible for all citizens to enjoy the fruits of genuine tolerance and mutual respect.\n",
            "   target: Deste modo, a vida civil de uma nação amadurece, fazendo com que todos os cidadãos gozem dos frutos da tolerância genuína e do respeito mútuo.\n",
            "1: source: 1999 XIII. Winnipeg, Canada July 23 to August 8\n",
            "   target: 1999 XIII. Winnipeg, Canadá 23 de julho a 8 de agosto\n",
            "2: source: In the mystery of Christmas, Christ's light shines on the earth, spreading, as it were, in concentric circles.\n",
            "   target: No mistério do Natal, a luz de Cristo irradia-se sobre a terra, difundindo-se como círculos concêntricos.\n"
          ],
          "name": "stdout"
        }
      ]
    },
    {
      "cell_type": "markdown",
      "source": [
        "## Criando o DataLoader\n"
      ],
      "metadata": {
        "id": "Qx-jInq_vdqT"
      }
    },
    {
      "cell_type": "code",
      "metadata": {
        "id": "OMen-JFKLFCb"
      },
      "source": [
        "tokenizer = T5Tokenizer.from_pretrained(model_name)\n",
        "extra_tokens = 'Ã,Õ,Á,É,Í,Ó,Ú,À,ã,õ,á,é,í,ó,ú'.split(',')\n",
        "added_tokens = []\n",
        "for token in extra_tokens:\n",
        "    enc = tokenizer.encode(token)\n",
        "    if 2 in enc:\n",
        "        added_tokens.append(token)\n",
        "        tokenizer.add_tokens(token)\n",
        "\n",
        "class MyDataset(Dataset):\n",
        "    def __init__(self, text_pairs: List[Tuple[str]], tokenizer,\n",
        "                 source_max_length: int = 32, target_max_length: int = 32):\n",
        "        self.tokenizer = tokenizer\n",
        "        self.text_pairs = text_pairs\n",
        "        self.source_max_length = source_max_length\n",
        "        self.target_max_length = target_max_length\n",
        "\n",
        "        self.task_string = 'translate English to Portuguese: '\n",
        "        \n",
        "    def __len__(self):\n",
        "        return len(self.text_pairs)\n",
        "    \n",
        "    def __getitem__(self, idx):\n",
        "        source, target = self.text_pairs[idx]\n",
        "\n",
        "        source = self.task_string + source\n",
        "\n",
        "        tokens = tokenizer(source, padding='max_length', truncation=True, max_length=self.source_max_length, return_tensors=\"pt\")\n",
        "        source_token_ids = torch.squeeze(tokens['input_ids'], dim=0)\n",
        "        source_mask = torch.squeeze(tokens['attention_mask'], dim=0)\n",
        "\n",
        "        tokens = tokenizer(target, padding='max_length', truncation=True, max_length=self.target_max_length, return_tensors=\"pt\")\n",
        "        target_token_ids = torch.squeeze(tokens['input_ids'], dim=0)\n",
        "        target_mask = torch.squeeze(tokens['attention_mask'], dim=0)\n",
        "\n",
        "        return (source_token_ids, source_mask, target_token_ids, target_mask,\n",
        "                source, target)"
      ],
      "execution_count": null,
      "outputs": []
    },
    {
      "cell_type": "markdown",
      "metadata": {
        "id": "cloyt0tIwIiD"
      },
      "source": [
        "## Testando o DataLoader"
      ]
    },
    {
      "cell_type": "code",
      "metadata": {
        "id": "ZoKiQXCvwGrP",
        "colab": {
          "base_uri": "https://localhost:8080/",
          "height": 890
        },
        "outputId": "f31d0a76-6bb7-4b62-e3ae-d79aba60dd10"
      },
      "source": [
        "text_pairs = [('we like pizza', 'eu gosto de pizza')]\n",
        "dataset_debug = MyDataset(\n",
        "    text_pairs=text_pairs,\n",
        "    tokenizer=tokenizer,\n",
        "    source_max_length=source_max_length,\n",
        "    target_max_length=target_max_length)\n",
        "\n",
        "dataloader_debug = DataLoader(dataset_debug, batch_size=10, shuffle=True, \n",
        "                              num_workers=0)\n",
        "\n",
        "source_token_ids, source_mask, target_token_ids, target_mask, source, target = next(iter(dataloader_debug))\n",
        "print('source_token_ids:\\n', source_token_ids)\n",
        "print('source_mask:\\n', source_mask)\n",
        "print('target_token_ids:\\n', target_token_ids)\n",
        "print('target_mask:\\n', target_mask)\n",
        "print('source:\\n', source)\n",
        "print('target:\\n', target)\n",
        "\n",
        "print('source_token_ids.shape:', source_token_ids.shape)\n",
        "print('source_mask.shape:', source_mask.shape)\n",
        "print('target_token_ids.shape:', target_token_ids.shape)\n",
        "print('target_mask.shape:', target_mask.shape)"
      ],
      "execution_count": null,
      "outputs": [
        {
          "output_type": "stream",
          "text": [
            "source_token_ids:\n",
            " tensor([[13959,  1566,    12, 21076,    10,    62,   114,  6871,     1,     0,\n",
            "             0,     0,     0,     0,     0,     0,     0,     0,     0,     0,\n",
            "             0,     0,     0,     0,     0,     0,     0,     0,     0,     0,\n",
            "             0,     0,     0,     0,     0,     0,     0,     0,     0,     0,\n",
            "             0,     0,     0,     0,     0,     0,     0,     0,     0,     0,\n",
            "             0,     0,     0,     0,     0,     0,     0,     0,     0,     0,\n",
            "             0,     0,     0,     0,     0,     0,     0,     0,     0,     0,\n",
            "             0,     0,     0,     0,     0,     0,     0,     0,     0,     0,\n",
            "             0,     0,     0,     0,     0,     0,     0,     0,     0,     0,\n",
            "             0,     0,     0,     0,     0,     0,     0,     0,     0,     0,\n",
            "             0,     0,     0,     0,     0,     0,     0,     0,     0,     0,\n",
            "             0,     0,     0,     0,     0,     0,     0,     0,     0,     0,\n",
            "             0,     0,     0,     0,     0,     0,     0,     0]])\n",
            "source_mask:\n",
            " tensor([[1, 1, 1, 1, 1, 1, 1, 1, 1, 0, 0, 0, 0, 0, 0, 0, 0, 0, 0, 0, 0, 0, 0, 0,\n",
            "         0, 0, 0, 0, 0, 0, 0, 0, 0, 0, 0, 0, 0, 0, 0, 0, 0, 0, 0, 0, 0, 0, 0, 0,\n",
            "         0, 0, 0, 0, 0, 0, 0, 0, 0, 0, 0, 0, 0, 0, 0, 0, 0, 0, 0, 0, 0, 0, 0, 0,\n",
            "         0, 0, 0, 0, 0, 0, 0, 0, 0, 0, 0, 0, 0, 0, 0, 0, 0, 0, 0, 0, 0, 0, 0, 0,\n",
            "         0, 0, 0, 0, 0, 0, 0, 0, 0, 0, 0, 0, 0, 0, 0, 0, 0, 0, 0, 0, 0, 0, 0, 0,\n",
            "         0, 0, 0, 0, 0, 0, 0, 0]])\n",
            "target_token_ids:\n",
            " tensor([[   3,   15,   76,  281,    7,  235,   20, 6871,    1,    0,    0,    0,\n",
            "            0,    0,    0,    0,    0,    0,    0,    0,    0,    0,    0,    0,\n",
            "            0,    0,    0,    0,    0,    0,    0,    0,    0,    0,    0,    0,\n",
            "            0,    0,    0,    0,    0,    0,    0,    0,    0,    0,    0,    0,\n",
            "            0,    0,    0,    0,    0,    0,    0,    0,    0,    0,    0,    0,\n",
            "            0,    0,    0,    0,    0,    0,    0,    0,    0,    0,    0,    0,\n",
            "            0,    0,    0,    0,    0,    0,    0,    0,    0,    0,    0,    0,\n",
            "            0,    0,    0,    0,    0,    0,    0,    0,    0,    0,    0,    0,\n",
            "            0,    0,    0,    0,    0,    0,    0,    0,    0,    0,    0,    0,\n",
            "            0,    0,    0,    0,    0,    0,    0,    0,    0,    0,    0,    0,\n",
            "            0,    0,    0,    0,    0,    0,    0,    0]])\n",
            "target_mask:\n",
            " tensor([[1, 1, 1, 1, 1, 1, 1, 1, 1, 0, 0, 0, 0, 0, 0, 0, 0, 0, 0, 0, 0, 0, 0, 0,\n",
            "         0, 0, 0, 0, 0, 0, 0, 0, 0, 0, 0, 0, 0, 0, 0, 0, 0, 0, 0, 0, 0, 0, 0, 0,\n",
            "         0, 0, 0, 0, 0, 0, 0, 0, 0, 0, 0, 0, 0, 0, 0, 0, 0, 0, 0, 0, 0, 0, 0, 0,\n",
            "         0, 0, 0, 0, 0, 0, 0, 0, 0, 0, 0, 0, 0, 0, 0, 0, 0, 0, 0, 0, 0, 0, 0, 0,\n",
            "         0, 0, 0, 0, 0, 0, 0, 0, 0, 0, 0, 0, 0, 0, 0, 0, 0, 0, 0, 0, 0, 0, 0, 0,\n",
            "         0, 0, 0, 0, 0, 0, 0, 0]])\n",
            "source:\n",
            " ('translate English to Portuguese: we like pizza',)\n",
            "target:\n",
            " ('eu gosto de pizza',)\n",
            "source_token_ids.shape: torch.Size([1, 128])\n",
            "source_mask.shape: torch.Size([1, 128])\n",
            "target_token_ids.shape: torch.Size([1, 128])\n",
            "target_mask.shape: torch.Size([1, 128])\n"
          ],
          "name": "stdout"
        }
      ]
    },
    {
      "cell_type": "markdown",
      "metadata": {
        "id": "OBptbyTvXBhC"
      },
      "source": [
        "## Instanciando os DataLoaders de Treino/Val/Test"
      ]
    },
    {
      "cell_type": "code",
      "metadata": {
        "id": "i2_Fcs0VXD5W"
      },
      "source": [
        "dataset_train = MyDataset(text_pairs=x_train,\n",
        "                          tokenizer=tokenizer,\n",
        "                          source_max_length=source_max_length,\n",
        "                          target_max_length=target_max_length)\n",
        "\n",
        "dataset_val = MyDataset(text_pairs=x_val,\n",
        "                        tokenizer=tokenizer,\n",
        "                        source_max_length=source_max_length,\n",
        "                        target_max_length=target_max_length)\n",
        "\n",
        "dataset_test = MyDataset(text_pairs=x_test,\n",
        "                         tokenizer=tokenizer,\n",
        "                         source_max_length=source_max_length,\n",
        "                         target_max_length=target_max_length)\n",
        "\n",
        "train_dataloader = DataLoader(dataset_train, batch_size=batch_size,\n",
        "                              shuffle=True, num_workers=4)\n",
        "\n",
        "val_dataloader = DataLoader(dataset_val, batch_size=batch_size, shuffle=False, \n",
        "                            num_workers=4)\n",
        "\n",
        "test_dataloader = DataLoader(dataset_test, batch_size=batch_size,\n",
        "                             shuffle=False, num_workers=4)"
      ],
      "execution_count": null,
      "outputs": []
    },
    {
      "cell_type": "markdown",
      "metadata": {
        "id": "Vo8oCnIGXntL"
      },
      "source": [
        "# T5 com Pytorch Lightning"
      ]
    },
    {
      "cell_type": "code",
      "metadata": {
        "id": "jg-hZEktbvnr"
      },
      "source": [
        "class T5Finetuner(pl.LightningModule):\n",
        "\n",
        "    def __init__(self, tokenizer, train_dataloader, val_dataloader,\n",
        "                 test_dataloader, learning_rate, target_max_length=32):\n",
        "        super(T5Finetuner, self).__init__()\n",
        "        \n",
        "        self._train_dataloader = train_dataloader\n",
        "        self._val_dataloader = val_dataloader\n",
        "        self._test_dataloader = test_dataloader\n",
        "\n",
        "        self.model = T5ForConditionalGeneration.from_pretrained(model_name, return_dict=True)\n",
        "        \n",
        "        self.tokenizer = tokenizer\n",
        "        self.learning_rate = learning_rate\n",
        "        self.target_max_length = target_max_length\n",
        "\n",
        "        self.print = 0\n",
        "\n",
        "    def forward(self, source_token_ids, source_mask, target_token_ids=None,\n",
        "                target_mask=None):\n",
        "\n",
        "        if self.training:\n",
        "            encoder_hidden_states = self.model.get_encoder()(source_token_ids,\n",
        "                                                        attention_mask=source_mask)\n",
        "            \n",
        "            target_token_ids[target_mask == 0] = -100\n",
        "            output = self.model(encoder_outputs=encoder_hidden_states,\n",
        "                                attention_mask=source_mask,\n",
        "                                labels=target_token_ids)\n",
        "            return output.loss\n",
        "        else:\n",
        "            with torch.no_grad():\n",
        "                predicted_token_ids = self.model.generate(input_ids=source_token_ids, \n",
        "                                                          max_length=self.target_max_length,\n",
        "                                                          do_sample=False).squeeze()\n",
        "                return predicted_token_ids\n",
        "\n",
        "    def training_step(self, batch, batch_nb):\n",
        "        # batch\n",
        "        source_token_ids, source_mask, target_token_ids, target_mask, _, _ = batch\n",
        "         \n",
        "        # fwd\n",
        "        loss = self(\n",
        "            source_token_ids, source_mask, target_token_ids, target_mask)\n",
        "\n",
        "        # logs\n",
        "        tensorboard_logs = {'train_loss': loss}\n",
        "        progress_bar = {'gpu_usage': gpu_usage()}\n",
        "        return {'loss': loss, 'log': tensorboard_logs, 'progress_bar': progress_bar}\n",
        "\n",
        "    def validation_step(self, batch, batch_nb):\n",
        "        self.training = False\n",
        "        source_token_ids, source_mask, target_token_ids, target_mask, source, target = batch\n",
        "\n",
        "        predicted_ids = self(source_token_ids, source_mask, target_token_ids, target_mask)\n",
        "        B = []\n",
        "        i = 0\n",
        "        for pred_ids, targ in zip(predicted_ids, target):\n",
        "            predicted = self.tokenizer.decode(pred_ids, skip_special_tokens=True)\n",
        "            bleu = sacrebleu.corpus_bleu(predicted, targ)\n",
        "            B.append(bleu.score)\n",
        "            \n",
        "            if i < 1 and self.print % 100 == 0:\n",
        "                print(f'\\nsource = {source[i]}')\n",
        "                print(f'target = {target[i]}')\n",
        "                print(f'predicted = {predicted}')\n",
        "            i += 1\n",
        "\n",
        "        self.print += 1\n",
        "\n",
        "        B_pt = torch.tensor(B)\n",
        "        avg_bleu = torch.mean(B_pt)\n",
        "\n",
        "        progress_bar = {'gpu_usage': gpu_usage()}\n",
        "        return {'val_bleu': avg_bleu, 'progress_bar': progress_bar}\n",
        "\n",
        "    def test_step(self, batch, batch_nb):\n",
        "        self.training = False\n",
        "        source_token_ids, source_mask, target_token_ids, target_mask, source, target = batch\n",
        "\n",
        "        predicted_ids = self(source_token_ids, source_mask, target_token_ids, target_mask)\n",
        "        B = []\n",
        "        i = 0\n",
        "        for pred_ids, targ in zip(predicted_ids, target):\n",
        "            predicted = self.tokenizer.decode(pred_ids, skip_special_tokens=True)\n",
        "            bleu = sacrebleu.corpus_bleu(predicted, targ)\n",
        "            B.append(bleu.score)\n",
        "            \n",
        "            if i < 1 and self.print % 100 == 0:\n",
        "                print(f'\\nsource = {source[i]}')\n",
        "                print(f'target = {target[i]}')\n",
        "                print(f'predicted = {predicted}')\n",
        "            i += 1\n",
        "        \n",
        "        self.print += 1\n",
        "\n",
        "        B_pt = torch.tensor(B)\n",
        "        avg_bleu = torch.mean(B_pt)\n",
        "\n",
        "        progress_bar = {'gpu_usage': gpu_usage()}\n",
        "        return {'test_bleu': avg_bleu, 'progress_bar': progress_bar}\n",
        "\n",
        "    def validation_epoch_end(self, outputs):\n",
        "        avg_bleu = sum([x['val_bleu'] for x in outputs]) / len(outputs)\n",
        "\n",
        "        tensorboard_logs = {'avg_val_bleu': avg_bleu}\n",
        "        \n",
        "        return {'avg_val_bleu': avg_bleu, 'progress_bar': tensorboard_logs}\n",
        "\n",
        "    def test_epoch_end(self, outputs):\n",
        "        avg_bleu = sum([x['test_bleu'] for x in outputs]) / len(outputs)\n",
        "\n",
        "        tensorboard_logs = {'avg_test_bleu': avg_bleu}\n",
        "        \n",
        "        return {'avg_test_bleu': avg_bleu, 'progress_bar': tensorboard_logs}\n",
        "    \n",
        "    def configure_optimizers(self):\n",
        "        return torch.optim.Adam(\n",
        "            [p for p in self.parameters() if p.requires_grad],\n",
        "            lr=self.learning_rate, eps=1e-08)\n",
        "\n",
        "    def train_dataloader(self):\n",
        "        return self._train_dataloader\n",
        "\n",
        "    def val_dataloader(self):\n",
        "        return self._val_dataloader\n",
        "\n",
        "    def test_dataloader(self):\n",
        "        return self._test_dataloader"
      ],
      "execution_count": null,
      "outputs": []
    },
    {
      "cell_type": "markdown",
      "source": [
        "## Instanciando o T5"
      ],
      "metadata": {
        "id": "G0TPIZklwjUE"
      }
    },
    {
      "cell_type": "code",
      "metadata": {
        "id": "-uwsIZfVPt9x"
      },
      "source": [
        "model = T5Finetuner(tokenizer=tokenizer,\n",
        "                    train_dataloader=train_dataloader,\n",
        "                    val_dataloader=val_dataloader,\n",
        "                    test_dataloader=test_dataloader,\n",
        "                    learning_rate=learning_rate,\n",
        "                    target_max_length=target_max_length)"
      ],
      "execution_count": null,
      "outputs": []
    },
    {
      "cell_type": "markdown",
      "metadata": {
        "id": "LjZZhjixzXGN"
      },
      "source": [
        "## Número de parâmetros do modelo"
      ]
    },
    {
      "cell_type": "code",
      "metadata": {
        "id": "EaXoBX2Qza8I",
        "colab": {
          "base_uri": "https://localhost:8080/",
          "height": 35
        },
        "outputId": "28d2606d-8fe4-4ad0-e4ad-5e7dfec78b02"
      },
      "source": [
        "sum([torch.tensor(x.size()).prod() for x in model.parameters() if x.requires_grad]) # trainable parameters"
      ],
      "execution_count": null,
      "outputs": [
        {
          "output_type": "execute_result",
          "data": {
            "text/plain": [
              "tensor(60506880)"
            ]
          },
          "metadata": {
            "tags": []
          },
          "execution_count": 14
        }
      ]
    },
    {
      "cell_type": "markdown",
      "metadata": {
        "id": "CDcbeDvO71VL"
      },
      "source": [
        "# Debug\n",
        "\n",
        "Testando rapidamente o modelo em treino, validação e teste com um batch"
      ]
    },
    {
      "cell_type": "code",
      "metadata": {
        "id": "P2f6OPLGQcBW",
        "colab": {
          "base_uri": "https://localhost:8080/",
          "height": 755,
          "referenced_widgets": [
            "c8731b2851ef449dbb5e3cda9d859ae2",
            "c12d7de159a54d939dea6d8c90dacf76",
            "1d70372c8e49403682fae58be562d4b5",
            "da8c22f1bbe642949d7e9f2ab8946e6e",
            "9695a83b34e14d1ab53fac7d172fbf61",
            "2f8b229143e04c74ac163960d4131749",
            "5be9ccacce6445368178504cdd5bf729",
            "ca743f04df744243abd0c6308f27259e",
            "b65148050dd648b9b522b4b337474c38",
            "70d4131985024b67aa4c967a5f7a3304",
            "6f176e8b93a04adfaee19f0b2f7707b5",
            "c0974e0f276a4a4a937b477a1a955462",
            "54f17d7b917c4c17889d052fc9d7b113",
            "4913d3e93201421493ba32aa18d71136",
            "62456fedf722470a975312085cb28465",
            "3266c2aafc724e14b5ff11ef6131b666",
            "1519ad186a03410db30776bb77ea379e",
            "88a133e98128445c991e06f2f8438419",
            "36f3944c20bb480caabd46e0b1915c0b",
            "f0f4f3d17acf4bfa8f62cf592e6da8cd",
            "4428dace9e0c4629a8fbc4ce2e6f581c",
            "35874d324f0c4c8ea0725f92bccfb9b6",
            "7028de95688e4eccad8b0b6021623fb4",
            "c2d1319743994269b5a842a8447af593"
          ]
        },
        "outputId": "aed04210-36cb-49bf-c1ce-189214a681fa"
      },
      "source": [
        "trainer = pl.Trainer(gpus=1, \n",
        "                     checkpoint_callback=False,  # Disable checkpoint saving.\n",
        "                     fast_dev_run=True)\n",
        "trainer.fit(model)\n",
        "trainer.test(model)\n",
        "del model  # Para não ter estouro de mémoria da GPU"
      ],
      "execution_count": null,
      "outputs": [
        {
          "output_type": "stream",
          "text": [
            "GPU available: True, used: True\n",
            "TPU available: False, using: 0 TPU cores\n",
            "LOCAL_RANK: 0 - CUDA_VISIBLE_DEVICES: [0]\n",
            "Running in fast_dev_run mode: will run a full train, val and test loop using a single batch\n",
            "\n",
            "  | Name  | Type                       | Params\n",
            "-----------------------------------------------------\n",
            "0 | model | T5ForConditionalGeneration | 60 M  \n"
          ],
          "name": "stderr"
        },
        {
          "output_type": "display_data",
          "data": {
            "application/vnd.jupyter.widget-view+json": {
              "model_id": "c8731b2851ef449dbb5e3cda9d859ae2",
              "version_minor": 0,
              "version_major": 2
            },
            "text/plain": [
              "HBox(children=(FloatProgress(value=1.0, bar_style='info', description='Training', layout=Layout(flex='2'), max…"
            ]
          },
          "metadata": {
            "tags": []
          }
        },
        {
          "output_type": "stream",
          "text": [
            "/usr/local/lib/python3.6/dist-packages/pytorch_lightning/utilities/distributed.py:45: UserWarning: The {log:dict keyword} was deprecated in 0.9.1 and will be removed in 1.0.0\n",
            "Please use self.log(...) inside the lightningModule instead.\n",
            "\n",
            "# log on a step or aggregate epoch metric to the logger and/or progress bar\n",
            "# (inside LightningModule)\n",
            "self.log('train_loss', loss, on_step=True, on_epoch=True, prog_bar=True)\n",
            "  warnings.warn(*args, **kwargs)\n",
            "/usr/local/lib/python3.6/dist-packages/pytorch_lightning/utilities/distributed.py:45: UserWarning: The {progress_bar:dict keyword} was deprecated in 0.9.1 and will be removed in 1.0.0\n",
            "Please use self.log(...) inside the lightningModule instead.\n",
            "\n",
            "# log on a step or aggregate epoch metric to the logger and/or progress bar\n",
            "# (inside LightningModule)\n",
            "self.log('train_loss', loss, on_step=True, on_epoch=True, prog_bar=True)\n",
            "  warnings.warn(*args, **kwargs)\n"
          ],
          "name": "stderr"
        },
        {
          "output_type": "display_data",
          "data": {
            "application/vnd.jupyter.widget-view+json": {
              "model_id": "b65148050dd648b9b522b4b337474c38",
              "version_minor": 0,
              "version_major": 2
            },
            "text/plain": [
              "HBox(children=(FloatProgress(value=1.0, bar_style='info', description='Validating', layout=Layout(flex='2'), m…"
            ]
          },
          "metadata": {
            "tags": []
          }
        },
        {
          "output_type": "stream",
          "text": [
            "\n",
            "source = translate English to Portuguese: «You have hidden these things from the wise and the learned you have revealed them to the childlike»\n",
            "target = «Escondeste estas coisas aos sábios e entendidos e as revelaste aos pequenos»\n",
            "predicted = «Vous a caché ces choses de la sa e apprendt vous ve révéle e a e a e a e a e a e a e a e a e a e a e a e e e e e e e e e e e e e e e e e e e e e e e aveve ca ca as e s \n"
          ],
          "name": "stdout"
        },
        {
          "output_type": "stream",
          "text": [
            "/usr/local/lib/python3.6/dist-packages/pytorch_lightning/utilities/distributed.py:45: UserWarning: The validation_epoch_end should not return anything as of 9.1.to log, use self.log(...) or self.write(...) directly in the LightningModule\n",
            "  warnings.warn(*args, **kwargs)\n"
          ],
          "name": "stderr"
        },
        {
          "output_type": "stream",
          "text": [
            "\n"
          ],
          "name": "stdout"
        },
        {
          "output_type": "display_data",
          "data": {
            "application/vnd.jupyter.widget-view+json": {
              "model_id": "1519ad186a03410db30776bb77ea379e",
              "version_minor": 0,
              "version_major": 2
            },
            "text/plain": [
              "HBox(children=(FloatProgress(value=1.0, bar_style='info', description='Testing', layout=Layout(flex='2'), max=…"
            ]
          },
          "metadata": {
            "tags": []
          }
        },
        {
          "output_type": "stream",
          "text": [
            "--------------------------------------------------------------------------------\n",
            "DATALOADER:0 TEST RESULTS\n",
            "{'avg_test_bleu': tensor(7.2845)}\n",
            "--------------------------------------------------------------------------------\n",
            "\n"
          ],
          "name": "stdout"
        },
        {
          "output_type": "stream",
          "text": [
            "/usr/local/lib/python3.6/dist-packages/pytorch_lightning/utilities/distributed.py:45: UserWarning: The testing_epoch_end should not return anything as of 9.1.to log, use self.log(...) or self.write(...) directly in the LightningModule\n",
            "  warnings.warn(*args, **kwargs)\n"
          ],
          "name": "stderr"
        }
      ]
    },
    {
      "cell_type": "markdown",
      "metadata": {
        "id": "kS2bjddQu87g"
      },
      "source": [
        "## Overfit em algumas amostras"
      ]
    },
    {
      "cell_type": "markdown",
      "metadata": {
        "id": "BEr29GIhBNKs"
      },
      "source": [
        "Antes de treinar o modelo no dataset todo, faremos overfit do \n",
        "modelo em poucas de treino para verificar se loss vai para próximo de 0. Isso serve para depurar se a implementação do modelo está correta.\n",
        "\n",
        "Podemos também medir se a acurácia neste minibatch chega perto de 100%. Isso serve para depurar se nossa função que mede a acurácia está correta.\n",
        "\n",
        "Nota: se treinarmos por muitas épocas (ex: 500) é possivel que a loss vá para zero mesmo com bugs na implementação. O ideal é que a loss chege próxima a zero antes de 100 épocas."
      ]
    },
    {
      "cell_type": "code",
      "metadata": {
        "id": "92RcHIEONdzB",
        "colab": {
          "base_uri": "https://localhost:8080/",
          "height": 578,
          "referenced_widgets": [
            "a0f484ab0dff4b06b9ae0f87de43f350",
            "f3732b85c4bd4729812cc77678144017",
            "0cd9f06e07fa4de2ae0510d02e6305cf",
            "79ce8038acf44d1ea1eaba5255f6d634",
            "05f22f516e1146be959355f9d00c60e2",
            "9f714d17f18749088d9c21dcca242cf5",
            "6e0147a5f6364a6780779125359a62bb",
            "06cd5b17b3f7471abaf230d55789c512",
            "0bb289ddb1904f0984fc6a5a56ddca47",
            "323a74429d764bdab296ab094c452b9f",
            "7f744619b59c4dc58ea99eae6f7fb9e0",
            "c76896e765db4acbba639f5474b7bc8b",
            "75b2ae05b7784879afac3e5bf3f856cb",
            "8cc06436ab6f4e17bdc3a2a0dd39aa82",
            "15d3b534c3c74eb5b36a9287f9c5de4a",
            "8bf3d4937cf84a9c8830868d7fd2db9b",
            "714887a58b2544cfb11a7f997e657593",
            "f68375c763874880a39b5b93b1e8e0b8",
            "7ba5ff03d5af429ea791e8bdc17c2b94",
            "bbf4b295869c441db060e0115ff1dfc0",
            "242050a5641246b5b58eeace7d53e1e5",
            "3fcaefb812f84e8186a1fc12d195a4b2",
            "98cfa442ed4544eab63a82ae468e3830",
            "05fb5b3f2b184acba89aeafbc63017dc",
            "b667c45fba3a45e2a98df41eb4041b3a",
            "f53ec1bd0be9416190f078aa2ed64623",
            "7d25554915884ca0bcd6cfb9ea11ef21",
            "a522c6af93554ac19ff25b5ac50402c4",
            "e556594c9ad34975be685d4179240419",
            "8e386fada5044f319448058c0b6c3928",
            "a6b1b4cc1a25403b9e0dde63b16fa48c",
            "207eb4095c704736b18d732fe6a1f96b",
            "998b4d78067d45cc8e1e59150171e66e",
            "cdac0f76f60847b990d21a85c57f9152",
            "0cad87e5be40491caab379383240e8b2",
            "66f34fe93499403c9b286393591c65a9",
            "7153e31d24b842b5b4133b4bc2677a39",
            "5e1921cd094e4dc488bd0ad2cb711485",
            "9f6b90ef9f9443aa893956351c7b9639",
            "e8e49917edd84435a1050cd5a8a76eb6"
          ]
        },
        "outputId": "8b7601d4-3fdc-4a25-cede-3126f5cf5b8f"
      },
      "source": [
        "trainer = pl.Trainer(gpus=1,\n",
        "                    max_epochs=30,\n",
        "                    check_val_every_n_epoch=10,\n",
        "                    checkpoint_callback=False, # Disable checkpoint saving\n",
        "                    overfit_batches=0.005)\n",
        "                     \n",
        "\n",
        "# Dataset usando apenas um batch de amostras de treino.\n",
        "dataset_debug = MyDataset(text_pairs=x_train,\n",
        "                          tokenizer=tokenizer,\n",
        "                          source_max_length=source_max_length,\n",
        "                          target_max_length=target_max_length)\n",
        "\n",
        "debug_dataloader = DataLoader(dataset_debug, batch_size=batch_size,\n",
        "                              shuffle=False, num_workers=4)\n",
        "\n",
        "model = T5Finetuner(tokenizer=tokenizer,\n",
        "                    train_dataloader=debug_dataloader,\n",
        "                    val_dataloader=debug_dataloader,\n",
        "                    test_dataloader=None,\n",
        "                    learning_rate=learning_rate,\n",
        "                    target_max_length=target_max_length)\n",
        "\n",
        "trainer.fit(model)\n",
        "del model  # Para não ter estouro de mémoria da GPU"
      ],
      "execution_count": null,
      "outputs": [
        {
          "output_type": "stream",
          "text": [
            "GPU available: True, used: True\n",
            "TPU available: False, using: 0 TPU cores\n",
            "LOCAL_RANK: 0 - CUDA_VISIBLE_DEVICES: [0]\n",
            "\n",
            "  | Name  | Type                       | Params\n",
            "-----------------------------------------------------\n",
            "0 | model | T5ForConditionalGeneration | 60 M  \n"
          ],
          "name": "stderr"
        },
        {
          "output_type": "display_data",
          "data": {
            "application/vnd.jupyter.widget-view+json": {
              "model_id": "a0f484ab0dff4b06b9ae0f87de43f350",
              "version_minor": 0,
              "version_major": 2
            },
            "text/plain": [
              "HBox(children=(FloatProgress(value=1.0, bar_style='info', description='Validation sanity check', layout=Layout…"
            ]
          },
          "metadata": {
            "tags": []
          }
        },
        {
          "output_type": "stream",
          "text": [
            "\n",
            "source = translate English to Portuguese: More Croatian words and phrases\n",
            "target = Mais palavras e frases em croata\n",
            "predicted = Portugiesisch und kroatisch mehr Worte\n"
          ],
          "name": "stdout"
        },
        {
          "output_type": "stream",
          "text": [
            "/usr/local/lib/python3.6/dist-packages/pytorch_lightning/utilities/distributed.py:45: UserWarning: The validation_epoch_end should not return anything as of 9.1.to log, use self.log(...) or self.write(...) directly in the LightningModule\n",
            "  warnings.warn(*args, **kwargs)\n",
            "/usr/local/lib/python3.6/dist-packages/pytorch_lightning/utilities/distributed.py:45: UserWarning: The {progress_bar:dict keyword} was deprecated in 0.9.1 and will be removed in 1.0.0\n",
            "Please use self.log(...) inside the lightningModule instead.\n",
            "\n",
            "# log on a step or aggregate epoch metric to the logger and/or progress bar\n",
            "# (inside LightningModule)\n",
            "self.log('train_loss', loss, on_step=True, on_epoch=True, prog_bar=True)\n",
            "  warnings.warn(*args, **kwargs)\n"
          ],
          "name": "stderr"
        },
        {
          "output_type": "display_data",
          "data": {
            "application/vnd.jupyter.widget-view+json": {
              "model_id": "0bb289ddb1904f0984fc6a5a56ddca47",
              "version_minor": 0,
              "version_major": 2
            },
            "text/plain": [
              "HBox(children=(FloatProgress(value=1.0, bar_style='info', description='Training', layout=Layout(flex='2'), max…"
            ]
          },
          "metadata": {
            "tags": []
          }
        },
        {
          "output_type": "stream",
          "text": [
            "/usr/local/lib/python3.6/dist-packages/pytorch_lightning/utilities/distributed.py:45: UserWarning: The {log:dict keyword} was deprecated in 0.9.1 and will be removed in 1.0.0\n",
            "Please use self.log(...) inside the lightningModule instead.\n",
            "\n",
            "# log on a step or aggregate epoch metric to the logger and/or progress bar\n",
            "# (inside LightningModule)\n",
            "self.log('train_loss', loss, on_step=True, on_epoch=True, prog_bar=True)\n",
            "  warnings.warn(*args, **kwargs)\n"
          ],
          "name": "stderr"
        },
        {
          "output_type": "display_data",
          "data": {
            "application/vnd.jupyter.widget-view+json": {
              "model_id": "714887a58b2544cfb11a7f997e657593",
              "version_minor": 0,
              "version_major": 2
            },
            "text/plain": [
              "HBox(children=(FloatProgress(value=1.0, bar_style='info', description='Validating', layout=Layout(flex='2'), m…"
            ]
          },
          "metadata": {
            "tags": []
          }
        },
        {
          "output_type": "display_data",
          "data": {
            "application/vnd.jupyter.widget-view+json": {
              "model_id": "b667c45fba3a45e2a98df41eb4041b3a",
              "version_minor": 0,
              "version_major": 2
            },
            "text/plain": [
              "HBox(children=(FloatProgress(value=1.0, bar_style='info', description='Validating', layout=Layout(flex='2'), m…"
            ]
          },
          "metadata": {
            "tags": []
          }
        },
        {
          "output_type": "display_data",
          "data": {
            "application/vnd.jupyter.widget-view+json": {
              "model_id": "998b4d78067d45cc8e1e59150171e66e",
              "version_minor": 0,
              "version_major": 2
            },
            "text/plain": [
              "HBox(children=(FloatProgress(value=1.0, bar_style='info', description='Validating', layout=Layout(flex='2'), m…"
            ]
          },
          "metadata": {
            "tags": []
          }
        },
        {
          "output_type": "stream",
          "text": [
            "\n"
          ],
          "name": "stdout"
        }
      ]
    },
    {
      "cell_type": "markdown",
      "metadata": {
        "id": "pKEddD8nvSpt"
      },
      "source": [
        "# Treinamento e Validação\n"
      ]
    },
    {
      "cell_type": "code",
      "metadata": {
        "id": "V9RzCYcavfhR",
        "colab": {
          "base_uri": "https://localhost:8080/",
          "height": 1000,
          "referenced_widgets": [
            "1d57f0aa3b4b4f639f71fd4d36494aef",
            "8b829fa9957e4deda62e004679bd6c0f",
            "5b1f6d3d6a804dfa994dc1fcc5cd6236",
            "b9224b64e06c4a86962e5dd10e457de2",
            "69d2d95992704bc19f5d9f9a56d6e062",
            "feade97a74214522acd7f581b7048880",
            "8526cbc65d5d4629b00e3ad5bfe40e17",
            "38758ba1e7b3474194c16b0e4ed27d9b",
            "4f9a1842345f4fdabfce9225cd547e01",
            "fb9d8b16866442948ad726cf82364fa8",
            "72c8e8f65cf54b90a5197a17a70bcc20",
            "9bb0f3c4e3a846b88f13b9a126c03aa8",
            "7f50524120104632939b446e12c24b4d",
            "b1688540e6d841aebf1ae14016a03c10",
            "8c87b8a82c7d45898a24e736a16a2c8f",
            "09cba1d394ae4b46b94d6f4c10f80f0a",
            "ed53e431000e4f8dbbae9207160b1685",
            "75eae8d37aeb45c48f5d19d4ecf232ab",
            "cec8d06969a946de99c272e0ebf335cd",
            "0a7cbb6f129141ada88b9fbc7e03f53f",
            "c491ef92c6da40cc808da9d9630ef535",
            "0a03b3e1f2bc4fb48db4e3466a88963c",
            "bf3b7d6dfe1e45ccafdabaa65dfeae11",
            "0e524030a3374e7d9bda82aa8da38373",
            "a45aa06172684d908c9ddd3da617aaf9",
            "e1740a82d2124240add9260f057d2fda",
            "81a88d45878449ce9ab0b4c9bfccc82a",
            "4ac4c2eae0b54b92a73e138084324c9c",
            "1fbcc16e506e40eaa6c737fa2a536df6",
            "3eb546138623439d99d5191d5ee13f7a",
            "c2439329befc4076a25364244e6fafe2",
            "f7ce493ae0844bedaf769fe59156a44f"
          ]
        },
        "outputId": "5470d355-ea76-4d45-f21c-c5131b4d8a3d"
      },
      "source": [
        "max_epochs = 2\n",
        "\n",
        "checkpoint_path = '/content/drive/My Drive/Colab Notebooks/Tópicos IA/Aula 5/checkpoints/epoch=10.ckpt'\n",
        "checkpoint_dir = os.path.dirname(os.path.abspath(checkpoint_path))\n",
        "print(f'Files in {checkpoint_dir}: {os.listdir(checkpoint_dir)}')\n",
        "print(f'Saving checkpoints to {checkpoint_dir}')\n",
        "checkpoint_callback = ModelCheckpoint(filepath=checkpoint_dir,\n",
        "                                      save_top_k=-1)  # Keeps all checkpoints.\n",
        "\n",
        "resume_from_checkpoint = None\n",
        "if os.path.exists(checkpoint_path):\n",
        "    print(f'Restoring checkpoint: {checkpoint_path}')\n",
        "    resume_from_checkpoint = checkpoint_path\n",
        "\n",
        "trainer = pl.Trainer(gpus=1,\n",
        "                     max_epochs=max_epochs,\n",
        "                     check_val_every_n_epoch=1,\n",
        "                     profiler=True,\n",
        "                     accumulate_grad_batches=accumulate_grad_batches,\n",
        "                     checkpoint_callback=checkpoint_callback,\n",
        "                     progress_bar_refresh_rate=50,\n",
        "                     resume_from_checkpoint=resume_from_checkpoint)\n",
        "\n",
        "model = T5Finetuner(tokenizer=tokenizer,\n",
        "                    train_dataloader=train_dataloader,\n",
        "                    val_dataloader=val_dataloader,\n",
        "                    test_dataloader=test_dataloader,\n",
        "                    learning_rate=learning_rate,\n",
        "                    target_max_length=target_max_length)\n",
        "\n",
        "trainer.fit(model)"
      ],
      "execution_count": null,
      "outputs": [
        {
          "output_type": "stream",
          "text": [
            "GPU available: True, used: True\n",
            "TPU available: False, using: 0 TPU cores\n",
            "LOCAL_RANK: 0 - CUDA_VISIBLE_DEVICES: [0]\n"
          ],
          "name": "stderr"
        },
        {
          "output_type": "stream",
          "text": [
            "Files in /content/drive/My Drive/Colab Notebooks/Tópicos IA/Aula 5/checkpoints: ['epoch=4.ckpt']\n",
            "Saving checkpoints to /content/drive/My Drive/Colab Notebooks/Tópicos IA/Aula 5/checkpoints\n"
          ],
          "name": "stdout"
        },
        {
          "output_type": "stream",
          "text": [
            "\n",
            "  | Name  | Type                       | Params\n",
            "-----------------------------------------------------\n",
            "0 | model | T5ForConditionalGeneration | 60 M  \n"
          ],
          "name": "stderr"
        },
        {
          "output_type": "display_data",
          "data": {
            "application/vnd.jupyter.widget-view+json": {
              "model_id": "1d57f0aa3b4b4f639f71fd4d36494aef",
              "version_minor": 0,
              "version_major": 2
            },
            "text/plain": [
              "HBox(children=(FloatProgress(value=1.0, bar_style='info', description='Validation sanity check', layout=Layout…"
            ]
          },
          "metadata": {
            "tags": []
          }
        },
        {
          "output_type": "stream",
          "text": [
            "\n",
            "source = translate English to Portuguese: «You have hidden these things from the wise and the learned you have revealed them to the childlike»\n",
            "target = «Escondeste estas coisas aos sábios e entendidos e as revelaste aos pequenos»\n",
            "predicted = «Du hast diese Dinge den Weisen und den gelernten Sie haben sie dem Kindesenkung offenbart»\n"
          ],
          "name": "stdout"
        },
        {
          "output_type": "stream",
          "text": [
            "/usr/local/lib/python3.6/dist-packages/pytorch_lightning/utilities/distributed.py:45: UserWarning: The validation_epoch_end should not return anything as of 9.1.to log, use self.log(...) or self.write(...) directly in the LightningModule\n",
            "  warnings.warn(*args, **kwargs)\n",
            "/usr/local/lib/python3.6/dist-packages/pytorch_lightning/utilities/distributed.py:45: UserWarning: The {progress_bar:dict keyword} was deprecated in 0.9.1 and will be removed in 1.0.0\n",
            "Please use self.log(...) inside the lightningModule instead.\n",
            "\n",
            "# log on a step or aggregate epoch metric to the logger and/or progress bar\n",
            "# (inside LightningModule)\n",
            "self.log('train_loss', loss, on_step=True, on_epoch=True, prog_bar=True)\n",
            "  warnings.warn(*args, **kwargs)\n"
          ],
          "name": "stderr"
        },
        {
          "output_type": "display_data",
          "data": {
            "application/vnd.jupyter.widget-view+json": {
              "model_id": "4f9a1842345f4fdabfce9225cd547e01",
              "version_minor": 0,
              "version_major": 2
            },
            "text/plain": [
              "HBox(children=(FloatProgress(value=1.0, bar_style='info', description='Training', layout=Layout(flex='2'), max…"
            ]
          },
          "metadata": {
            "tags": []
          }
        },
        {
          "output_type": "stream",
          "text": [
            "/usr/local/lib/python3.6/dist-packages/pytorch_lightning/utilities/distributed.py:45: UserWarning: The {log:dict keyword} was deprecated in 0.9.1 and will be removed in 1.0.0\n",
            "Please use self.log(...) inside the lightningModule instead.\n",
            "\n",
            "# log on a step or aggregate epoch metric to the logger and/or progress bar\n",
            "# (inside LightningModule)\n",
            "self.log('train_loss', loss, on_step=True, on_epoch=True, prog_bar=True)\n",
            "  warnings.warn(*args, **kwargs)\n"
          ],
          "name": "stderr"
        },
        {
          "output_type": "display_data",
          "data": {
            "application/vnd.jupyter.widget-view+json": {
              "model_id": "ed53e431000e4f8dbbae9207160b1685",
              "version_minor": 0,
              "version_major": 2
            },
            "text/plain": [
              "HBox(children=(FloatProgress(value=1.0, bar_style='info', description='Validating', layout=Layout(flex='2'), m…"
            ]
          },
          "metadata": {
            "tags": []
          }
        },
        {
          "output_type": "stream",
          "text": [
            "\n",
            "source = translate English to Portuguese: Greeting of Card. Alfonso López Trujillo during the vigil of prayer held in the City of Arts and Sciences of Valencia (July 8, 2006)\n",
            "target = Saudação do Cardeal Alfonso López Trujillo no início do encontro de festa e de testemunho na Cidade das Artes e Ciências de Valência (8 de julho de 2006)\n",
            "predicted = Acolhimento de Cart ã o. Alfonso López Trujillo durante a vig í lia da oraç ã o realizada na cidade das Artes e das Ciências de Valencia (08 de julho de 2006)\n"
          ],
          "name": "stdout"
        },
        {
          "output_type": "display_data",
          "data": {
            "application/vnd.jupyter.widget-view+json": {
              "model_id": "a45aa06172684d908c9ddd3da617aaf9",
              "version_minor": 0,
              "version_major": 2
            },
            "text/plain": [
              "HBox(children=(FloatProgress(value=1.0, bar_style='info', description='Validating', layout=Layout(flex='2'), m…"
            ]
          },
          "metadata": {
            "tags": []
          }
        },
        {
          "output_type": "stream",
          "text": [
            "\n",
            "source = translate English to Portuguese: I am Brazilian and I work in the Catholic school of Sainte-Marie.\n",
            "target = Sou brasileira e trabalho na escola católica de Sainte-Marie.\n",
            "predicted = Eu sou brasileiro e trabalho na escola católica de Sainte-Marie.\n",
            "\n",
            "source = translate English to Portuguese: Information: Located in San Diego.\n",
            "target = Informação: Located in San Diego.\n",
            "predicted = Informaç õ es: Localizado em San Diego.\n"
          ],
          "name": "stdout"
        },
        {
          "output_type": "stream",
          "text": [
            "\n",
            "\n",
            "Profiler Report\n",
            "\n",
            "Action              \t|  Mean duration (s)\t|  Total time (s) \n",
            "-----------------------------------------------------------------\n",
            "on_fit_start        \t|  3.0092e-05     \t|  3.0092e-05     \n",
            "on_validation_start \t|  0.019239       \t|  0.057717       \n",
            "on_validation_epoch_start\t|  3.0087e-05     \t|  9.0262e-05     \n",
            "on_validation_batch_start\t|  2.1706e-05     \t|  0.0068591      \n",
            "validation_step_end \t|  2.322e-05      \t|  0.0073374      \n",
            "on_validation_batch_end\t|  8.4344e-05     \t|  0.026653       \n",
            "on_validation_epoch_end\t|  2.3875e-05     \t|  7.1625e-05     \n",
            "on_validation_end   \t|  2.976          \t|  8.9279         \n",
            "on_train_start      \t|  0.027495       \t|  0.027495       \n",
            "on_epoch_start      \t|  0.0023539      \t|  0.0047078      \n",
            "on_train_epoch_start\t|  1.5032e-05     \t|  3.0065e-05     \n",
            "get_train_batch     \t|  0.0025898      \t|  16.186         \n",
            "on_batch_start      \t|  2.6563e-05     \t|  0.16602        \n",
            "on_train_batch_start\t|  1.368e-05      \t|  0.085498       \n",
            "training_step_end   \t|  1.5593e-05     \t|  0.097458       \n",
            "model_forward       \t|  0.075873       \t|  474.21         \n",
            "model_backward      \t|  0.44769        \t|  2798.1         \n",
            "on_after_backward   \t|  2.6889e-05     \t|  0.16806        \n",
            "on_batch_end        \t|  2.4118e-05     \t|  0.15074        \n",
            "on_train_batch_end  \t|  9.8018e-05     \t|  0.61261        \n",
            "optimizer_step      \t|  0.012067       \t|  37.722         \n",
            "on_epoch_end        \t|  2.3869e-05     \t|  4.7739e-05     \n",
            "on_train_epoch_end  \t|  1.5048e-05     \t|  3.0097e-05     \n",
            "on_train_end        \t|  0.0030901      \t|  0.0030901      \n",
            "\n"
          ],
          "name": "stderr"
        },
        {
          "output_type": "stream",
          "text": [
            "\n"
          ],
          "name": "stdout"
        },
        {
          "output_type": "execute_result",
          "data": {
            "text/plain": [
              "1"
            ]
          },
          "metadata": {
            "tags": []
          },
          "execution_count": 17
        }
      ]
    },
    {
      "cell_type": "markdown",
      "metadata": {
        "id": "AjN_-W4WZ67q"
      },
      "source": [
        "# Teste\n",
        "\n",
        "Após treinado, avaliamos o modelo no dataset de teste. É importante que essa avaliação seja feita poucas vezes para evitar \"overfit manual\" no dataset de teste."
      ]
    },
    {
      "cell_type": "code",
      "metadata": {
        "id": "vk6myBCOaajB",
        "colab": {
          "base_uri": "https://localhost:8080/",
          "height": 778,
          "referenced_widgets": [
            "32b4edba9b6b4e06855b8f11ef74b555",
            "ce1c76ab72d341d29fd3c6fe700d88c2",
            "1f8578a3aa2e4233a98b8fb3a7d96a89",
            "260be805dad64aeba70e493adbb6122b",
            "4cd825d2b68c4a54bf2035e795aa0820",
            "8bfccf2ab1fe49d1a953982ed5fc9860",
            "4bdd7df90ddb48bf9d6f968272cf29e0",
            "b20e57ecd6954da9ae62a5431ab586da"
          ]
        },
        "outputId": "02f7b85c-5786-4ccb-a015-87c09c711598"
      },
      "source": [
        "trainer.test(model)"
      ],
      "execution_count": null,
      "outputs": [
        {
          "output_type": "display_data",
          "data": {
            "application/vnd.jupyter.widget-view+json": {
              "model_id": "32b4edba9b6b4e06855b8f11ef74b555",
              "version_minor": 0,
              "version_major": 2
            },
            "text/plain": [
              "HBox(children=(FloatProgress(value=1.0, bar_style='info', description='Testing', layout=Layout(flex='2'), max=…"
            ]
          },
          "metadata": {
            "tags": []
          }
        },
        {
          "output_type": "stream",
          "text": [
            "\n",
            "source = translate English to Portuguese: There are lots of taxis in Bangkok. It is relatively cheap and the cars often contain both air conditioning and a meter.\n",
            "target = Há lotes de táxis em Bangkok. É relativamente barato e os carros muitas vezes contêm tanto ar condicionado e um medidor.\n",
            "predicted = Há muitos táxis em Bangkok. É relativamente barata e os carros frequentemente contêm ar condicionado e um metro.\n",
            "\n",
            "source = translate English to Portuguese: Thanks to its formulation, it is particularly suitable in the warm periods of the year or when ...\n",
            "target = Graças à sua formulação, é particularmente adequado nos períodos quentes do ano ...\n",
            "predicted = Graças à sua formulaç ã o, é particularmente adequada nos per í odos quentes do ano ou quando...\n",
            "\n",
            "source = translate English to Portuguese: Digitization of documents in Manto (Olancho, Honduras) - Amarillashonduras.net\n",
            "target = Digitalização de documentos em Manto (Olancho, Honduras) - Amarillashonduras.net\n",
            "predicted = Digitalizaç ã o de documentos em San Pedro de Macor í s (Cortés, Honduras) - Amarillashonduras.net\n",
            "\n",
            "source = translate English to Portuguese: Plastic injection in Santo Domingo - AmarillasLatinas.net\n",
            "target = Injeção de plástico em Santiago - AmarillasLatinas.net\n",
            "predicted = Injeç ã o de plástico em Santo Domingo - AmarillasLatinas.net\n",
            "\n",
            "source = translate English to Portuguese: The protein is referred to as the target of RAPAMYCIN due to the discovery that SIROLIMUS (commonly known as rapamycin) forms an inhibitory complex with TACROLIMUS BINDING PROTEIN 1A that blocks the action of its enzymatic activity. History Note English: 2011\n",
            "target = A proteína é conhecida por ser alvo da rapamicina devido à descoberta de que o SIROLIMO (também conhecido como rapamicina) forma um complexo inibitório com a PROTEÍNA 1A DE LIGAÇÃO A TACROLIMO que bloqueia a ação de sua atividade enzimática.\n",
            "predicted = A prote í na é referida como objetivo de RAPAMYCIN devido ao descoberto que SIROLIMUS (conhecido como rapamycina) forma um complexo inibidor com TACROLIMUS ABINDING PROTEIN 1A que bloquea a aç ã o da sua atividade enc í matica.\n",
            "\n",
            "source = translate English to Portuguese: Next: Mental health and feminism are the themes of the 7th winners DOC Future Related Works\n",
            "target = Próximo: Saúde mental e feminismo são os temas vencedores do 7º DOC Futura\n",
            "predicted = Próximo: Sa ú de mental e feminismo s ã o os temas dos 7os vencedores DOC futuro\n",
            "--------------------------------------------------------------------------------\n",
            "DATALOADER:0 TEST RESULTS\n",
            "{'avg_test_bleu': tensor(28.0566)}\n",
            "--------------------------------------------------------------------------------\n",
            "\n"
          ],
          "name": "stdout"
        },
        {
          "output_type": "stream",
          "text": [
            "/usr/local/lib/python3.6/dist-packages/pytorch_lightning/utilities/distributed.py:45: UserWarning: The testing_epoch_end should not return anything as of 9.1.to log, use self.log(...) or self.write(...) directly in the LightningModule\n",
            "  warnings.warn(*args, **kwargs)\n",
            "/usr/local/lib/python3.6/dist-packages/pytorch_lightning/utilities/distributed.py:45: UserWarning: The {progress_bar:dict keyword} was deprecated in 0.9.1 and will be removed in 1.0.0\n",
            "Please use self.log(...) inside the lightningModule instead.\n",
            "\n",
            "# log on a step or aggregate epoch metric to the logger and/or progress bar\n",
            "# (inside LightningModule)\n",
            "self.log('train_loss', loss, on_step=True, on_epoch=True, prog_bar=True)\n",
            "  warnings.warn(*args, **kwargs)\n"
          ],
          "name": "stderr"
        },
        {
          "output_type": "execute_result",
          "data": {
            "text/plain": [
              "[{'avg_test_bleu': 28.056610107421875}]"
            ]
          },
          "metadata": {
            "tags": []
          },
          "execution_count": 18
        }
      ]
    },
    {
      "cell_type": "code",
      "metadata": {
        "id": "5Wt0epRvnW65",
        "colab": {
          "base_uri": "https://localhost:8080/",
          "height": 381
        },
        "outputId": "f87ac37d-89eb-45af-8663-8000f94384e9"
      },
      "source": [
        "!nvidia-smi"
      ],
      "execution_count": null,
      "outputs": [
        {
          "output_type": "stream",
          "text": [
            "Fri Oct 23 00:06:44 2020       \n",
            "+-----------------------------------------------------------------------------+\n",
            "| NVIDIA-SMI 455.23.05    Driver Version: 418.67       CUDA Version: 10.1     |\n",
            "|-------------------------------+----------------------+----------------------+\n",
            "| GPU  Name        Persistence-M| Bus-Id        Disp.A | Volatile Uncorr. ECC |\n",
            "| Fan  Temp  Perf  Pwr:Usage/Cap|         Memory-Usage | GPU-Util  Compute M. |\n",
            "|                               |                      |               MIG M. |\n",
            "|===============================+======================+======================|\n",
            "|   0  Tesla T4            Off  | 00000000:00:04.0 Off |                    0 |\n",
            "| N/A   76C    P0    46W /  70W |   3949MiB / 15079MiB |      0%      Default |\n",
            "|                               |                      |                 ERR! |\n",
            "+-------------------------------+----------------------+----------------------+\n",
            "                                                                               \n",
            "+-----------------------------------------------------------------------------+\n",
            "| Processes:                                                                  |\n",
            "|  GPU   GI   CI        PID   Type   Process name                  GPU Memory |\n",
            "|        ID   ID                                                   Usage      |\n",
            "|=============================================================================|\n",
            "|  No running processes found                                                 |\n",
            "+-----------------------------------------------------------------------------+\n"
          ],
          "name": "stdout"
        }
      ]
    }
  ]
}